{
  "nbformat": 4,
  "nbformat_minor": 0,
  "metadata": {
    "colab": {
      "name": "Diabetes Onset Detection.ipynb",
      "version": "0.3.2",
      "provenance": [],
      "include_colab_link": false
    },
    "kernelspec": {
      "name": "python3",
      "display_name": "Python 3"
    }
  },
  "cells": [
    {
      "cell_type": "markdown",
      "metadata": {
        "id": "view-in-github",
        "colab_type": "text"
      },
      "source": [
        "<a href=\"https://colab.research.google.com/github/TASAHU18/Diabetes-Onset-Detection-using-Keras/blob/master/Diabetes_Onset_Detection.ipynb\" target=\"_parent\"><img src=\"https://colab.research.google.com/assets/colab-badge.svg\" alt=\"Open In Colab\"/></a>"
      ]
    },
    {
      "cell_type": "markdown",
      "metadata": {
        "id": "zhL-TaydXodR",
        "colab_type": "text"
      },
      "source": [
        "## Diabetes Onset Detection\n",
        "The far-ranging developments in healthcare over the past few years have led to a huge collection of data that can be used for analysis. We can now easily predict the onset of various illnesses before they even happen, using advance technology called neural networks.\n",
        "\n",
        "\n",
        "#### About dataset\n",
        "This dataset is originally from the National Institute of Diabetes and Digestive and Kidney Diseases. The objective of the dataset is to diagnostically predict whether or not a patient has diabetes, based on certain diagnostic measurements included in the dataset. Several constraints were placed on the selection of these instances from a larger database. In particular, all patients here are females at least 21 years old of Pima Indian heritage.\n",
        "\n",
        "We have 768 instances and the following 8 attributes:\n",
        "\n",
        "- Number of times pregnant (preg)\n",
        "- Plasma glucose concentration a 2 hours in an oral glucose tolerance test (plas)\n",
        "- Diastolic blood pressure in mm Hg (pres)\n",
        "- Triceps skin fold thickness in mm (skin)\n",
        "- 2-Hour serum insulin in mu U/ml (insu)\n",
        "- Body mass index measured as weight in kg/(height in m)^2 (mass)\n",
        "- Diabetes pedigree function (pedi)\n",
        "- Age in years (age)\n",
        "\n",
        "A particularly interesting attribute used in the study was the Diabetes Pedigree Function, pedi. It provided some data on diabetes mellitus history in relatives and the genetic relationship of those relatives to the patient. This measure of genetic influence gave us an idea of the hereditary risk one might have with the onset of diabetes mellitus. Based on observations in the proceeding section, it is unclear how well this function predicts the onset of diabetes."
      ]
    },
    {
      "cell_type": "code",
      "metadata": {
        "id": "MaA94VRpoLWc",
        "colab_type": "code",
        "colab": {
          "base_uri": "https://localhost:8080/",
          "height": 34
        },
        "outputId": "633054e8-60fd-44cc-f720-3d7219099380"
      },
      "source": [
        "import sys\n",
        "import pandas as pd\n",
        "import numpy as np\n",
        "import seaborn as sns\n",
        "import matplotlib.pyplot as plt\n",
        "import sklearn\n",
        "import keras"
      ],
      "execution_count": 1,
      "outputs": [
        {
          "output_type": "stream",
          "text": [
            "Using TensorFlow backend.\n"
          ],
          "name": "stderr"
        }
      ]
    },
    {
      "cell_type": "code",
      "metadata": {
        "id": "bUJP8YLxoYxN",
        "colab_type": "code",
        "colab": {
          "base_uri": "https://localhost:8080/",
          "height": 119
        },
        "outputId": "d351e45a-8385-4615-c743-1c4cf1df3865"
      },
      "source": [
        "print('Python: {}'.format(sys.version))\n",
        "print('Pandas: {}'.format(pd.__version__))\n",
        "print('Numpy: {}'.format(np.__version__))\n",
        "print('Sklearn: {}'.format(sklearn.__version__))\n",
        "print('Keras: {}'.format(keras.__version__))"
      ],
      "execution_count": 2,
      "outputs": [
        {
          "output_type": "stream",
          "text": [
            "Python: 3.6.8 (default, Jan 14 2019, 11:02:34) \n",
            "[GCC 8.0.1 20180414 (experimental) [trunk revision 259383]]\n",
            "Pandas: 0.24.2\n",
            "Numpy: 1.16.4\n",
            "Sklearn: 0.21.3\n",
            "Keras: 2.2.4\n"
          ],
          "name": "stdout"
        }
      ]
    },
    {
      "cell_type": "markdown",
      "metadata": {
        "id": "p2cpuG4lpdTX",
        "colab_type": "text"
      },
      "source": [
        "Let's import the Pima Indians diabetes dataset, which contains the details of 768 female patients"
      ]
    },
    {
      "cell_type": "code",
      "metadata": {
        "id": "pF76WzEyo-aF",
        "colab_type": "code",
        "colab": {}
      },
      "source": [
        "url = \"https://raw.githubusercontent.com/jbrownlee/Datasets/master/pima-indians-diabetes.data.csv\""
      ],
      "execution_count": 0,
      "outputs": []
    },
    {
      "cell_type": "code",
      "metadata": {
        "id": "vpxChjZzpX5o",
        "colab_type": "code",
        "colab": {}
      },
      "source": [
        "field_names = ['n_pregnant', 'glucose_concentration', 'blood_pressure (mm Hg)', 'skin_thickness (mm)', 'serum_insulin (mu U/ml)', 'BMI', 'pedigree_function', 'age', 'class']"
      ],
      "execution_count": 0,
      "outputs": []
    },
    {
      "cell_type": "code",
      "metadata": {
        "id": "4RC3UO_gqEy9",
        "colab_type": "code",
        "colab": {}
      },
      "source": [
        "df = pd.read_csv(url, names = field_names)"
      ],
      "execution_count": 0,
      "outputs": []
    },
    {
      "cell_type": "code",
      "metadata": {
        "id": "ruk4NQeaqVLw",
        "colab_type": "code",
        "colab": {
          "base_uri": "https://localhost:8080/",
          "height": 297
        },
        "outputId": "005d1059-f187-4707-fc30-18daa36999ff"
      },
      "source": [
        "df.describe()"
      ],
      "execution_count": 6,
      "outputs": [
        {
          "output_type": "execute_result",
          "data": {
            "text/html": [
              "<div>\n",
              "<style scoped>\n",
              "    .dataframe tbody tr th:only-of-type {\n",
              "        vertical-align: middle;\n",
              "    }\n",
              "\n",
              "    .dataframe tbody tr th {\n",
              "        vertical-align: top;\n",
              "    }\n",
              "\n",
              "    .dataframe thead th {\n",
              "        text-align: right;\n",
              "    }\n",
              "</style>\n",
              "<table border=\"1\" class=\"dataframe\">\n",
              "  <thead>\n",
              "    <tr style=\"text-align: right;\">\n",
              "      <th></th>\n",
              "      <th>n_pregnant</th>\n",
              "      <th>glucose_concentration</th>\n",
              "      <th>blood_pressure (mm Hg)</th>\n",
              "      <th>skin_thickness (mm)</th>\n",
              "      <th>serum_insulin (mu U/ml)</th>\n",
              "      <th>BMI</th>\n",
              "      <th>pedigree_function</th>\n",
              "      <th>age</th>\n",
              "      <th>class</th>\n",
              "    </tr>\n",
              "  </thead>\n",
              "  <tbody>\n",
              "    <tr>\n",
              "      <th>count</th>\n",
              "      <td>768.000000</td>\n",
              "      <td>768.000000</td>\n",
              "      <td>768.000000</td>\n",
              "      <td>768.000000</td>\n",
              "      <td>768.000000</td>\n",
              "      <td>768.000000</td>\n",
              "      <td>768.000000</td>\n",
              "      <td>768.000000</td>\n",
              "      <td>768.000000</td>\n",
              "    </tr>\n",
              "    <tr>\n",
              "      <th>mean</th>\n",
              "      <td>3.845052</td>\n",
              "      <td>120.894531</td>\n",
              "      <td>69.105469</td>\n",
              "      <td>20.536458</td>\n",
              "      <td>79.799479</td>\n",
              "      <td>31.992578</td>\n",
              "      <td>0.471876</td>\n",
              "      <td>33.240885</td>\n",
              "      <td>0.348958</td>\n",
              "    </tr>\n",
              "    <tr>\n",
              "      <th>std</th>\n",
              "      <td>3.369578</td>\n",
              "      <td>31.972618</td>\n",
              "      <td>19.355807</td>\n",
              "      <td>15.952218</td>\n",
              "      <td>115.244002</td>\n",
              "      <td>7.884160</td>\n",
              "      <td>0.331329</td>\n",
              "      <td>11.760232</td>\n",
              "      <td>0.476951</td>\n",
              "    </tr>\n",
              "    <tr>\n",
              "      <th>min</th>\n",
              "      <td>0.000000</td>\n",
              "      <td>0.000000</td>\n",
              "      <td>0.000000</td>\n",
              "      <td>0.000000</td>\n",
              "      <td>0.000000</td>\n",
              "      <td>0.000000</td>\n",
              "      <td>0.078000</td>\n",
              "      <td>21.000000</td>\n",
              "      <td>0.000000</td>\n",
              "    </tr>\n",
              "    <tr>\n",
              "      <th>25%</th>\n",
              "      <td>1.000000</td>\n",
              "      <td>99.000000</td>\n",
              "      <td>62.000000</td>\n",
              "      <td>0.000000</td>\n",
              "      <td>0.000000</td>\n",
              "      <td>27.300000</td>\n",
              "      <td>0.243750</td>\n",
              "      <td>24.000000</td>\n",
              "      <td>0.000000</td>\n",
              "    </tr>\n",
              "    <tr>\n",
              "      <th>50%</th>\n",
              "      <td>3.000000</td>\n",
              "      <td>117.000000</td>\n",
              "      <td>72.000000</td>\n",
              "      <td>23.000000</td>\n",
              "      <td>30.500000</td>\n",
              "      <td>32.000000</td>\n",
              "      <td>0.372500</td>\n",
              "      <td>29.000000</td>\n",
              "      <td>0.000000</td>\n",
              "    </tr>\n",
              "    <tr>\n",
              "      <th>75%</th>\n",
              "      <td>6.000000</td>\n",
              "      <td>140.250000</td>\n",
              "      <td>80.000000</td>\n",
              "      <td>32.000000</td>\n",
              "      <td>127.250000</td>\n",
              "      <td>36.600000</td>\n",
              "      <td>0.626250</td>\n",
              "      <td>41.000000</td>\n",
              "      <td>1.000000</td>\n",
              "    </tr>\n",
              "    <tr>\n",
              "      <th>max</th>\n",
              "      <td>17.000000</td>\n",
              "      <td>199.000000</td>\n",
              "      <td>122.000000</td>\n",
              "      <td>99.000000</td>\n",
              "      <td>846.000000</td>\n",
              "      <td>67.100000</td>\n",
              "      <td>2.420000</td>\n",
              "      <td>81.000000</td>\n",
              "      <td>1.000000</td>\n",
              "    </tr>\n",
              "  </tbody>\n",
              "</table>\n",
              "</div>"
            ],
            "text/plain": [
              "       n_pregnant  glucose_concentration  ...         age       class\n",
              "count  768.000000             768.000000  ...  768.000000  768.000000\n",
              "mean     3.845052             120.894531  ...   33.240885    0.348958\n",
              "std      3.369578              31.972618  ...   11.760232    0.476951\n",
              "min      0.000000               0.000000  ...   21.000000    0.000000\n",
              "25%      1.000000              99.000000  ...   24.000000    0.000000\n",
              "50%      3.000000             117.000000  ...   29.000000    0.000000\n",
              "75%      6.000000             140.250000  ...   41.000000    1.000000\n",
              "max     17.000000             199.000000  ...   81.000000    1.000000\n",
              "\n",
              "[8 rows x 9 columns]"
            ]
          },
          "metadata": {
            "tags": []
          },
          "execution_count": 6
        }
      ]
    },
    {
      "cell_type": "markdown",
      "metadata": {
        "id": "VYVjhrqJq71i",
        "colab_type": "text"
      },
      "source": [
        "we can notice that there are quite a few places where the value is zero, which may represent missing data.\n",
        "\n",
        "Having missing data will throw off our algorithm's accuracy. Let's deal with this first."
      ]
    },
    {
      "cell_type": "code",
      "metadata": {
        "id": "Urtza1XybsMj",
        "colab_type": "code",
        "colab": {
          "base_uri": "https://localhost:8080/",
          "height": 607
        },
        "outputId": "6fe2ab6c-b836-426f-fa25-4b64971b7dea"
      },
      "source": [
        "p = df.hist(figsize = (10,10))"
      ],
      "execution_count": 7,
      "outputs": [
        {
          "output_type": "display_data",
          "data": {
            "image/png": "[encoded data removed]",
            "text/plain": [
              "<Figure size 720x720 with 9 Axes>"
            ]
          },
          "metadata": {
            "tags": []
          }
        }
      ]
    },
    {
      "cell_type": "markdown",
      "metadata": {
        "id": "38JfMUH7cOYN",
        "colab_type": "text"
      },
      "source": [
        ""
      ]
    },
    {
      "cell_type": "code",
      "metadata": {
        "id": "OhkFt-d7cTuf",
        "colab_type": "code",
        "colab": {}
      },
      "source": [
        "# Null count analysis\n",
        "#import missingno as msno\n",
        "#p=msno.bar(df)"
      ],
      "execution_count": 0,
      "outputs": []
    },
    {
      "cell_type": "code",
      "metadata": {
        "id": "Eu6-AaXcrEMu",
        "colab_type": "code",
        "colab": {
          "base_uri": "https://localhost:8080/",
          "height": 204
        },
        "outputId": "61a167fd-e334-4a8d-bfb3-2a388512cab0"
      },
      "source": [
        "#Data Preprocessing\n",
        "\n",
        "df[df['glucose_concentration'] == 0]"
      ],
      "execution_count": 9,
      "outputs": [
        {
          "output_type": "execute_result",
          "data": {
            "text/html": [
              "<div>\n",
              "<style scoped>\n",
              "    .dataframe tbody tr th:only-of-type {\n",
              "        vertical-align: middle;\n",
              "    }\n",
              "\n",
              "    .dataframe tbody tr th {\n",
              "        vertical-align: top;\n",
              "    }\n",
              "\n",
              "    .dataframe thead th {\n",
              "        text-align: right;\n",
              "    }\n",
              "</style>\n",
              "<table border=\"1\" class=\"dataframe\">\n",
              "  <thead>\n",
              "    <tr style=\"text-align: right;\">\n",
              "      <th></th>\n",
              "      <th>n_pregnant</th>\n",
              "      <th>glucose_concentration</th>\n",
              "      <th>blood_pressure (mm Hg)</th>\n",
              "      <th>skin_thickness (mm)</th>\n",
              "      <th>serum_insulin (mu U/ml)</th>\n",
              "      <th>BMI</th>\n",
              "      <th>pedigree_function</th>\n",
              "      <th>age</th>\n",
              "      <th>class</th>\n",
              "    </tr>\n",
              "  </thead>\n",
              "  <tbody>\n",
              "    <tr>\n",
              "      <th>75</th>\n",
              "      <td>1</td>\n",
              "      <td>0</td>\n",
              "      <td>48</td>\n",
              "      <td>20</td>\n",
              "      <td>0</td>\n",
              "      <td>24.7</td>\n",
              "      <td>0.140</td>\n",
              "      <td>22</td>\n",
              "      <td>0</td>\n",
              "    </tr>\n",
              "    <tr>\n",
              "      <th>182</th>\n",
              "      <td>1</td>\n",
              "      <td>0</td>\n",
              "      <td>74</td>\n",
              "      <td>20</td>\n",
              "      <td>23</td>\n",
              "      <td>27.7</td>\n",
              "      <td>0.299</td>\n",
              "      <td>21</td>\n",
              "      <td>0</td>\n",
              "    </tr>\n",
              "    <tr>\n",
              "      <th>342</th>\n",
              "      <td>1</td>\n",
              "      <td>0</td>\n",
              "      <td>68</td>\n",
              "      <td>35</td>\n",
              "      <td>0</td>\n",
              "      <td>32.0</td>\n",
              "      <td>0.389</td>\n",
              "      <td>22</td>\n",
              "      <td>0</td>\n",
              "    </tr>\n",
              "    <tr>\n",
              "      <th>349</th>\n",
              "      <td>5</td>\n",
              "      <td>0</td>\n",
              "      <td>80</td>\n",
              "      <td>32</td>\n",
              "      <td>0</td>\n",
              "      <td>41.0</td>\n",
              "      <td>0.346</td>\n",
              "      <td>37</td>\n",
              "      <td>1</td>\n",
              "    </tr>\n",
              "    <tr>\n",
              "      <th>502</th>\n",
              "      <td>6</td>\n",
              "      <td>0</td>\n",
              "      <td>68</td>\n",
              "      <td>41</td>\n",
              "      <td>0</td>\n",
              "      <td>39.0</td>\n",
              "      <td>0.727</td>\n",
              "      <td>41</td>\n",
              "      <td>1</td>\n",
              "    </tr>\n",
              "  </tbody>\n",
              "</table>\n",
              "</div>"
            ],
            "text/plain": [
              "     n_pregnant  glucose_concentration  ...  age  class\n",
              "75            1                      0  ...   22      0\n",
              "182           1                      0  ...   21      0\n",
              "342           1                      0  ...   22      0\n",
              "349           5                      0  ...   37      1\n",
              "502           6                      0  ...   41      1\n",
              "\n",
              "[5 rows x 9 columns]"
            ]
          },
          "metadata": {
            "tags": []
          },
          "execution_count": 9
        }
      ]
    },
    {
      "cell_type": "markdown",
      "metadata": {
        "id": "siZrrXQKuTei",
        "colab_type": "text"
      },
      "source": [
        "Here, we can see that there are five cases where the glucose_concentration is 0, meaning that it is likely that there is some missing information in the dataset. \n",
        "Let's put missing values as NaN, excluding those for n_pregnancy, age, and class."
      ]
    },
    {
      "cell_type": "code",
      "metadata": {
        "id": "O7h8iGOuuJPN",
        "colab_type": "code",
        "colab": {}
      },
      "source": [
        "columns = ['glucose_concentration', 'blood_pressure (mm Hg)', 'skin_thickness (mm)', 'serum_insulin (mu U/ml)', 'BMI']\n",
        "\n",
        "for col in columns:\n",
        " df[col].replace(0, np.NaN, inplace=True)"
      ],
      "execution_count": 0,
      "outputs": []
    },
    {
      "cell_type": "code",
      "metadata": {
        "id": "_Kqpu0NZuz-t",
        "colab_type": "code",
        "colab": {
          "base_uri": "https://localhost:8080/",
          "height": 297
        },
        "outputId": "35b5d6f5-fe0c-4c84-f1e8-adba972a2a34"
      },
      "source": [
        "df.describe()"
      ],
      "execution_count": 11,
      "outputs": [
        {
          "output_type": "execute_result",
          "data": {
            "text/html": [
              "<div>\n",
              "<style scoped>\n",
              "    .dataframe tbody tr th:only-of-type {\n",
              "        vertical-align: middle;\n",
              "    }\n",
              "\n",
              "    .dataframe tbody tr th {\n",
              "        vertical-align: top;\n",
              "    }\n",
              "\n",
              "    .dataframe thead th {\n",
              "        text-align: right;\n",
              "    }\n",
              "</style>\n",
              "<table border=\"1\" class=\"dataframe\">\n",
              "  <thead>\n",
              "    <tr style=\"text-align: right;\">\n",
              "      <th></th>\n",
              "      <th>n_pregnant</th>\n",
              "      <th>glucose_concentration</th>\n",
              "      <th>blood_pressure (mm Hg)</th>\n",
              "      <th>skin_thickness (mm)</th>\n",
              "      <th>serum_insulin (mu U/ml)</th>\n",
              "      <th>BMI</th>\n",
              "      <th>pedigree_function</th>\n",
              "      <th>age</th>\n",
              "      <th>class</th>\n",
              "    </tr>\n",
              "  </thead>\n",
              "  <tbody>\n",
              "    <tr>\n",
              "      <th>count</th>\n",
              "      <td>768.000000</td>\n",
              "      <td>763.000000</td>\n",
              "      <td>733.000000</td>\n",
              "      <td>541.000000</td>\n",
              "      <td>394.000000</td>\n",
              "      <td>757.000000</td>\n",
              "      <td>768.000000</td>\n",
              "      <td>768.000000</td>\n",
              "      <td>768.000000</td>\n",
              "    </tr>\n",
              "    <tr>\n",
              "      <th>mean</th>\n",
              "      <td>3.845052</td>\n",
              "      <td>121.686763</td>\n",
              "      <td>72.405184</td>\n",
              "      <td>29.153420</td>\n",
              "      <td>155.548223</td>\n",
              "      <td>32.457464</td>\n",
              "      <td>0.471876</td>\n",
              "      <td>33.240885</td>\n",
              "      <td>0.348958</td>\n",
              "    </tr>\n",
              "    <tr>\n",
              "      <th>std</th>\n",
              "      <td>3.369578</td>\n",
              "      <td>30.535641</td>\n",
              "      <td>12.382158</td>\n",
              "      <td>10.476982</td>\n",
              "      <td>118.775855</td>\n",
              "      <td>6.924988</td>\n",
              "      <td>0.331329</td>\n",
              "      <td>11.760232</td>\n",
              "      <td>0.476951</td>\n",
              "    </tr>\n",
              "    <tr>\n",
              "      <th>min</th>\n",
              "      <td>0.000000</td>\n",
              "      <td>44.000000</td>\n",
              "      <td>24.000000</td>\n",
              "      <td>7.000000</td>\n",
              "      <td>14.000000</td>\n",
              "      <td>18.200000</td>\n",
              "      <td>0.078000</td>\n",
              "      <td>21.000000</td>\n",
              "      <td>0.000000</td>\n",
              "    </tr>\n",
              "    <tr>\n",
              "      <th>25%</th>\n",
              "      <td>1.000000</td>\n",
              "      <td>99.000000</td>\n",
              "      <td>64.000000</td>\n",
              "      <td>22.000000</td>\n",
              "      <td>76.250000</td>\n",
              "      <td>27.500000</td>\n",
              "      <td>0.243750</td>\n",
              "      <td>24.000000</td>\n",
              "      <td>0.000000</td>\n",
              "    </tr>\n",
              "    <tr>\n",
              "      <th>50%</th>\n",
              "      <td>3.000000</td>\n",
              "      <td>117.000000</td>\n",
              "      <td>72.000000</td>\n",
              "      <td>29.000000</td>\n",
              "      <td>125.000000</td>\n",
              "      <td>32.300000</td>\n",
              "      <td>0.372500</td>\n",
              "      <td>29.000000</td>\n",
              "      <td>0.000000</td>\n",
              "    </tr>\n",
              "    <tr>\n",
              "      <th>75%</th>\n",
              "      <td>6.000000</td>\n",
              "      <td>141.000000</td>\n",
              "      <td>80.000000</td>\n",
              "      <td>36.000000</td>\n",
              "      <td>190.000000</td>\n",
              "      <td>36.600000</td>\n",
              "      <td>0.626250</td>\n",
              "      <td>41.000000</td>\n",
              "      <td>1.000000</td>\n",
              "    </tr>\n",
              "    <tr>\n",
              "      <th>max</th>\n",
              "      <td>17.000000</td>\n",
              "      <td>199.000000</td>\n",
              "      <td>122.000000</td>\n",
              "      <td>99.000000</td>\n",
              "      <td>846.000000</td>\n",
              "      <td>67.100000</td>\n",
              "      <td>2.420000</td>\n",
              "      <td>81.000000</td>\n",
              "      <td>1.000000</td>\n",
              "    </tr>\n",
              "  </tbody>\n",
              "</table>\n",
              "</div>"
            ],
            "text/plain": [
              "       n_pregnant  glucose_concentration  ...         age       class\n",
              "count  768.000000             763.000000  ...  768.000000  768.000000\n",
              "mean     3.845052             121.686763  ...   33.240885    0.348958\n",
              "std      3.369578              30.535641  ...   11.760232    0.476951\n",
              "min      0.000000              44.000000  ...   21.000000    0.000000\n",
              "25%      1.000000              99.000000  ...   24.000000    0.000000\n",
              "50%      3.000000             117.000000  ...   29.000000    0.000000\n",
              "75%      6.000000             141.000000  ...   41.000000    1.000000\n",
              "max     17.000000             199.000000  ...   81.000000    1.000000\n",
              "\n",
              "[8 rows x 9 columns]"
            ]
          },
          "metadata": {
            "tags": []
          },
          "execution_count": 11
        }
      ]
    },
    {
      "cell_type": "markdown",
      "metadata": {
        "id": "93erc0PIu8qc",
        "colab_type": "text"
      },
      "source": [
        "We can now see that there are a number of instances in the columns modified that show some changes. For example, the number of instances in serum_insulin has dropped to 394, from the initial 768.\n",
        "\n",
        "Let's drop the missing value and check again."
      ]
    },
    {
      "cell_type": "code",
      "metadata": {
        "id": "3bJOrd19u1uP",
        "colab_type": "code",
        "colab": {
          "base_uri": "https://localhost:8080/",
          "height": 297
        },
        "outputId": "1df25626-0ddf-4d76-a3bd-82cf238f3b03"
      },
      "source": [
        "df.dropna(inplace=True)\n",
        "df.describe()"
      ],
      "execution_count": 12,
      "outputs": [
        {
          "output_type": "execute_result",
          "data": {
            "text/html": [
              "<div>\n",
              "<style scoped>\n",
              "    .dataframe tbody tr th:only-of-type {\n",
              "        vertical-align: middle;\n",
              "    }\n",
              "\n",
              "    .dataframe tbody tr th {\n",
              "        vertical-align: top;\n",
              "    }\n",
              "\n",
              "    .dataframe thead th {\n",
              "        text-align: right;\n",
              "    }\n",
              "</style>\n",
              "<table border=\"1\" class=\"dataframe\">\n",
              "  <thead>\n",
              "    <tr style=\"text-align: right;\">\n",
              "      <th></th>\n",
              "      <th>n_pregnant</th>\n",
              "      <th>glucose_concentration</th>\n",
              "      <th>blood_pressure (mm Hg)</th>\n",
              "      <th>skin_thickness (mm)</th>\n",
              "      <th>serum_insulin (mu U/ml)</th>\n",
              "      <th>BMI</th>\n",
              "      <th>pedigree_function</th>\n",
              "      <th>age</th>\n",
              "      <th>class</th>\n",
              "    </tr>\n",
              "  </thead>\n",
              "  <tbody>\n",
              "    <tr>\n",
              "      <th>count</th>\n",
              "      <td>392.000000</td>\n",
              "      <td>392.000000</td>\n",
              "      <td>392.000000</td>\n",
              "      <td>392.000000</td>\n",
              "      <td>392.000000</td>\n",
              "      <td>392.000000</td>\n",
              "      <td>392.000000</td>\n",
              "      <td>392.000000</td>\n",
              "      <td>392.000000</td>\n",
              "    </tr>\n",
              "    <tr>\n",
              "      <th>mean</th>\n",
              "      <td>3.301020</td>\n",
              "      <td>122.627551</td>\n",
              "      <td>70.663265</td>\n",
              "      <td>29.145408</td>\n",
              "      <td>156.056122</td>\n",
              "      <td>33.086224</td>\n",
              "      <td>0.523046</td>\n",
              "      <td>30.864796</td>\n",
              "      <td>0.331633</td>\n",
              "    </tr>\n",
              "    <tr>\n",
              "      <th>std</th>\n",
              "      <td>3.211424</td>\n",
              "      <td>30.860781</td>\n",
              "      <td>12.496092</td>\n",
              "      <td>10.516424</td>\n",
              "      <td>118.841690</td>\n",
              "      <td>7.027659</td>\n",
              "      <td>0.345488</td>\n",
              "      <td>10.200777</td>\n",
              "      <td>0.471401</td>\n",
              "    </tr>\n",
              "    <tr>\n",
              "      <th>min</th>\n",
              "      <td>0.000000</td>\n",
              "      <td>56.000000</td>\n",
              "      <td>24.000000</td>\n",
              "      <td>7.000000</td>\n",
              "      <td>14.000000</td>\n",
              "      <td>18.200000</td>\n",
              "      <td>0.085000</td>\n",
              "      <td>21.000000</td>\n",
              "      <td>0.000000</td>\n",
              "    </tr>\n",
              "    <tr>\n",
              "      <th>25%</th>\n",
              "      <td>1.000000</td>\n",
              "      <td>99.000000</td>\n",
              "      <td>62.000000</td>\n",
              "      <td>21.000000</td>\n",
              "      <td>76.750000</td>\n",
              "      <td>28.400000</td>\n",
              "      <td>0.269750</td>\n",
              "      <td>23.000000</td>\n",
              "      <td>0.000000</td>\n",
              "    </tr>\n",
              "    <tr>\n",
              "      <th>50%</th>\n",
              "      <td>2.000000</td>\n",
              "      <td>119.000000</td>\n",
              "      <td>70.000000</td>\n",
              "      <td>29.000000</td>\n",
              "      <td>125.500000</td>\n",
              "      <td>33.200000</td>\n",
              "      <td>0.449500</td>\n",
              "      <td>27.000000</td>\n",
              "      <td>0.000000</td>\n",
              "    </tr>\n",
              "    <tr>\n",
              "      <th>75%</th>\n",
              "      <td>5.000000</td>\n",
              "      <td>143.000000</td>\n",
              "      <td>78.000000</td>\n",
              "      <td>37.000000</td>\n",
              "      <td>190.000000</td>\n",
              "      <td>37.100000</td>\n",
              "      <td>0.687000</td>\n",
              "      <td>36.000000</td>\n",
              "      <td>1.000000</td>\n",
              "    </tr>\n",
              "    <tr>\n",
              "      <th>max</th>\n",
              "      <td>17.000000</td>\n",
              "      <td>198.000000</td>\n",
              "      <td>110.000000</td>\n",
              "      <td>63.000000</td>\n",
              "      <td>846.000000</td>\n",
              "      <td>67.100000</td>\n",
              "      <td>2.420000</td>\n",
              "      <td>81.000000</td>\n",
              "      <td>1.000000</td>\n",
              "    </tr>\n",
              "  </tbody>\n",
              "</table>\n",
              "</div>"
            ],
            "text/plain": [
              "       n_pregnant  glucose_concentration  ...         age       class\n",
              "count  392.000000             392.000000  ...  392.000000  392.000000\n",
              "mean     3.301020             122.627551  ...   30.864796    0.331633\n",
              "std      3.211424              30.860781  ...   10.200777    0.471401\n",
              "min      0.000000              56.000000  ...   21.000000    0.000000\n",
              "25%      1.000000              99.000000  ...   23.000000    0.000000\n",
              "50%      2.000000             119.000000  ...   27.000000    0.000000\n",
              "75%      5.000000             143.000000  ...   36.000000    1.000000\n",
              "max     17.000000             198.000000  ...   81.000000    1.000000\n",
              "\n",
              "[8 rows x 9 columns]"
            ]
          },
          "metadata": {
            "tags": []
          },
          "execution_count": 12
        }
      ]
    },
    {
      "cell_type": "markdown",
      "metadata": {
        "id": "F4tA_OV5vl5w",
        "colab_type": "text"
      },
      "source": [
        "Let's go ahead and convert this dataset into a NumPy array. This can be done using the df.values() function."
      ]
    },
    {
      "cell_type": "code",
      "metadata": {
        "id": "z0uPt1cqvWef",
        "colab_type": "code",
        "colab": {
          "base_uri": "https://localhost:8080/",
          "height": 34
        },
        "outputId": "c0427be5-9cab-47f7-bb77-fcb25ea1f2d5"
      },
      "source": [
        "dataset = df.values\n",
        "print(dataset.shape)"
      ],
      "execution_count": 13,
      "outputs": [
        {
          "output_type": "stream",
          "text": [
            "(392, 9)\n"
          ],
          "name": "stdout"
        }
      ]
    },
    {
      "cell_type": "code",
      "metadata": {
        "id": "Mw1da6EkvtxC",
        "colab_type": "code",
        "colab": {}
      },
      "source": [
        "# Let's split the dataset as input features and label\n",
        "X = dataset[:, 0:8]\n",
        "Y = dataset[:, 8].astype(int)"
      ],
      "execution_count": 0,
      "outputs": []
    },
    {
      "cell_type": "code",
      "metadata": {
        "id": "xNiBiKUgv-Pp",
        "colab_type": "code",
        "colab": {
          "base_uri": "https://localhost:8080/",
          "height": 51
        },
        "outputId": "acfac444-3392-4559-e2bb-f98b60bd563d"
      },
      "source": [
        "print(X.shape)\n",
        "print(Y.shape)"
      ],
      "execution_count": 15,
      "outputs": [
        {
          "output_type": "stream",
          "text": [
            "(392, 8)\n",
            "(392,)\n"
          ],
          "name": "stdout"
        }
      ]
    },
    {
      "cell_type": "code",
      "metadata": {
        "id": "nq00kh_pwWwS",
        "colab_type": "code",
        "colab": {
          "base_uri": "https://localhost:8080/",
          "height": 85
        },
        "outputId": "cd6e070d-4181-4ab1-88dd-5112beb1d9ce"
      },
      "source": [
        "print(X[:2])"
      ],
      "execution_count": 16,
      "outputs": [
        {
          "output_type": "stream",
          "text": [
            "[[1.000e+00 8.900e+01 6.600e+01 2.300e+01 9.400e+01 2.810e+01 1.670e-01\n",
            "  2.100e+01]\n",
            " [0.000e+00 1.370e+02 4.000e+01 3.500e+01 1.680e+02 4.310e+01 2.288e+00\n",
            "  3.300e+01]]\n"
          ],
          "name": "stdout"
        }
      ]
    },
    {
      "cell_type": "code",
      "metadata": {
        "id": "rFuNcL5XwadY",
        "colab_type": "code",
        "colab": {
          "base_uri": "https://localhost:8080/",
          "height": 314
        },
        "outputId": "5d7ca1e4-e6fe-4d55-bfc1-d910f5ad6cf2"
      },
      "source": [
        "# Normalizing the dataset\n",
        "from sklearn.preprocessing import StandardScaler\n",
        "scaler = StandardScaler().fit(X)\n",
        "\n",
        "#Transforming the training data\n",
        "X_scaled = scaler.transform(X)\n",
        "\n",
        "#Let's display the transformed data\n",
        "print(scaler)\n",
        "\n",
        "data=pd.DataFrame(X_scaled)\n",
        "data.describe()"
      ],
      "execution_count": 17,
      "outputs": [
        {
          "output_type": "stream",
          "text": [
            "StandardScaler(copy=True, with_mean=True, with_std=True)\n"
          ],
          "name": "stdout"
        },
        {
          "output_type": "execute_result",
          "data": {
            "text/html": [
              "<div>\n",
              "<style scoped>\n",
              "    .dataframe tbody tr th:only-of-type {\n",
              "        vertical-align: middle;\n",
              "    }\n",
              "\n",
              "    .dataframe tbody tr th {\n",
              "        vertical-align: top;\n",
              "    }\n",
              "\n",
              "    .dataframe thead th {\n",
              "        text-align: right;\n",
              "    }\n",
              "</style>\n",
              "<table border=\"1\" class=\"dataframe\">\n",
              "  <thead>\n",
              "    <tr style=\"text-align: right;\">\n",
              "      <th></th>\n",
              "      <th>0</th>\n",
              "      <th>1</th>\n",
              "      <th>2</th>\n",
              "      <th>3</th>\n",
              "      <th>4</th>\n",
              "      <th>5</th>\n",
              "      <th>6</th>\n",
              "      <th>7</th>\n",
              "    </tr>\n",
              "  </thead>\n",
              "  <tbody>\n",
              "    <tr>\n",
              "      <th>count</th>\n",
              "      <td>3.920000e+02</td>\n",
              "      <td>3.920000e+02</td>\n",
              "      <td>3.920000e+02</td>\n",
              "      <td>3.920000e+02</td>\n",
              "      <td>3.920000e+02</td>\n",
              "      <td>3.920000e+02</td>\n",
              "      <td>3.920000e+02</td>\n",
              "      <td>3.920000e+02</td>\n",
              "    </tr>\n",
              "    <tr>\n",
              "      <th>mean</th>\n",
              "      <td>-4.021726e-17</td>\n",
              "      <td>3.129583e-17</td>\n",
              "      <td>-4.641624e-16</td>\n",
              "      <td>1.042250e-16</td>\n",
              "      <td>6.485742e-17</td>\n",
              "      <td>1.543550e-16</td>\n",
              "      <td>3.880116e-17</td>\n",
              "      <td>1.028089e-16</td>\n",
              "    </tr>\n",
              "    <tr>\n",
              "      <th>std</th>\n",
              "      <td>1.001278e+00</td>\n",
              "      <td>1.001278e+00</td>\n",
              "      <td>1.001278e+00</td>\n",
              "      <td>1.001278e+00</td>\n",
              "      <td>1.001278e+00</td>\n",
              "      <td>1.001278e+00</td>\n",
              "      <td>1.001278e+00</td>\n",
              "      <td>1.001278e+00</td>\n",
              "    </tr>\n",
              "    <tr>\n",
              "      <th>min</th>\n",
              "      <td>-1.029213e+00</td>\n",
              "      <td>-2.161731e+00</td>\n",
              "      <td>-3.739001e+00</td>\n",
              "      <td>-2.108484e+00</td>\n",
              "      <td>-1.196867e+00</td>\n",
              "      <td>-2.120941e+00</td>\n",
              "      <td>-1.269525e+00</td>\n",
              "      <td>-9.682991e-01</td>\n",
              "    </tr>\n",
              "    <tr>\n",
              "      <th>25%</th>\n",
              "      <td>-7.174265e-01</td>\n",
              "      <td>-7.665958e-01</td>\n",
              "      <td>-6.941640e-01</td>\n",
              "      <td>-7.755315e-01</td>\n",
              "      <td>-6.681786e-01</td>\n",
              "      <td>-6.676780e-01</td>\n",
              "      <td>-7.340909e-01</td>\n",
              "      <td>-7.719850e-01</td>\n",
              "    </tr>\n",
              "    <tr>\n",
              "      <th>50%</th>\n",
              "      <td>-4.056403e-01</td>\n",
              "      <td>-1.176959e-01</td>\n",
              "      <td>-5.314565e-02</td>\n",
              "      <td>-1.384444e-02</td>\n",
              "      <td>-2.574448e-01</td>\n",
              "      <td>1.621036e-02</td>\n",
              "      <td>-2.131475e-01</td>\n",
              "      <td>-3.793569e-01</td>\n",
              "    </tr>\n",
              "    <tr>\n",
              "      <th>75%</th>\n",
              "      <td>5.297185e-01</td>\n",
              "      <td>6.609841e-01</td>\n",
              "      <td>5.878727e-01</td>\n",
              "      <td>7.478426e-01</td>\n",
              "      <td>2.859877e-01</td>\n",
              "      <td>5.718696e-01</td>\n",
              "      <td>4.751644e-01</td>\n",
              "      <td>5.040564e-01</td>\n",
              "    </tr>\n",
              "    <tr>\n",
              "      <th>max</th>\n",
              "      <td>4.271153e+00</td>\n",
              "      <td>2.445459e+00</td>\n",
              "      <td>3.151946e+00</td>\n",
              "      <td>3.223325e+00</td>\n",
              "      <td>5.812990e+00</td>\n",
              "      <td>4.846172e+00</td>\n",
              "      <td>5.497667e+00</td>\n",
              "      <td>4.921123e+00</td>\n",
              "    </tr>\n",
              "  </tbody>\n",
              "</table>\n",
              "</div>"
            ],
            "text/plain": [
              "                  0             1  ...             6             7\n",
              "count  3.920000e+02  3.920000e+02  ...  3.920000e+02  3.920000e+02\n",
              "mean  -4.021726e-17  3.129583e-17  ...  3.880116e-17  1.028089e-16\n",
              "std    1.001278e+00  1.001278e+00  ...  1.001278e+00  1.001278e+00\n",
              "min   -1.029213e+00 -2.161731e+00  ... -1.269525e+00 -9.682991e-01\n",
              "25%   -7.174265e-01 -7.665958e-01  ... -7.340909e-01 -7.719850e-01\n",
              "50%   -4.056403e-01 -1.176959e-01  ... -2.131475e-01 -3.793569e-01\n",
              "75%    5.297185e-01  6.609841e-01  ...  4.751644e-01  5.040564e-01\n",
              "max    4.271153e+00  2.445459e+00  ...  5.497667e+00  4.921123e+00\n",
              "\n",
              "[8 rows x 8 columns]"
            ]
          },
          "metadata": {
            "tags": []
          },
          "execution_count": 17
        }
      ]
    },
    {
      "cell_type": "markdown",
      "metadata": {
        "id": "9WUBibMBxsOI",
        "colab_type": "text"
      },
      "source": [
        "Here, we still have 392 instances, but they have essentially been normalized so that they have **a mean of nearly zero and a standard deviation of nearly 1**. All of parameters now are on an equal footing, and won't be weighted inappropriately."
      ]
    },
    {
      "cell_type": "code",
      "metadata": {
        "id": "hktfhFMRxeBz",
        "colab_type": "code",
        "colab": {}
      },
      "source": [
        "# Building Keras model\n",
        "\n",
        "from sklearn.model_selection import GridSearchCV, KFold\n",
        "from keras.models import Sequential\n",
        "from keras.layers import Dense\n",
        "from keras.wrappers.scikit_learn import KerasClassifier\n",
        "from keras.optimizers import Adam"
      ],
      "execution_count": 0,
      "outputs": []
    },
    {
      "cell_type": "code",
      "metadata": {
        "id": "_sFx755Qydgq",
        "colab_type": "code",
        "colab": {}
      },
      "source": [
        "# Let's start by defining the model. Used a create_model() function, because we have to repeatedly reinitialize our model. \n",
        "\n",
        "seed = 100\n",
        "np.random.seed(seed)\n",
        "\n",
        "def create_model():\n",
        "     # create model\n",
        "     model = Sequential()\n",
        "     model.add(Dense(8, input_dim = 8, kernel_initializer='normal', activation='relu'))\n",
        "     model.add(Dense(4, input_dim = 8, kernel_initializer='normal', activation='relu'))\n",
        "     model.add(Dense(1, activation='sigmoid'))\n",
        " \n",
        "     # compile the model\n",
        "     adam = Adam(lr = 0.01)\n",
        "     model.compile(loss = 'binary_crossentropy', optimizer = adam, metrics = ['accuracy'])\n",
        "     return model\n",
        " "
      ],
      "execution_count": 0,
      "outputs": []
    },
    {
      "cell_type": "code",
      "metadata": {
        "id": "STvG_2gky3-P",
        "colab_type": "code",
        "colab": {
          "base_uri": "https://localhost:8080/",
          "height": 527
        },
        "outputId": "5ed5114d-abfa-4b14-addc-24197dfe724b"
      },
      "source": [
        "model = create_model()\n",
        "print(model.summary())"
      ],
      "execution_count": 20,
      "outputs": [
        {
          "output_type": "stream",
          "text": [
            "WARNING: Logging before flag parsing goes to stderr.\n",
            "W0829 17:50:15.770038 140683416053632 deprecation_wrapper.py:119] From /usr/local/lib/python3.6/dist-packages/keras/backend/tensorflow_backend.py:74: The name tf.get_default_graph is deprecated. Please use tf.compat.v1.get_default_graph instead.\n",
            "\n",
            "W0829 17:50:15.786919 140683416053632 deprecation_wrapper.py:119] From /usr/local/lib/python3.6/dist-packages/keras/backend/tensorflow_backend.py:517: The name tf.placeholder is deprecated. Please use tf.compat.v1.placeholder instead.\n",
            "\n",
            "W0829 17:50:15.789898 140683416053632 deprecation_wrapper.py:119] From /usr/local/lib/python3.6/dist-packages/keras/backend/tensorflow_backend.py:4115: The name tf.random_normal is deprecated. Please use tf.random.normal instead.\n",
            "\n",
            "W0829 17:50:15.817520 140683416053632 deprecation_wrapper.py:119] From /usr/local/lib/python3.6/dist-packages/keras/backend/tensorflow_backend.py:4138: The name tf.random_uniform is deprecated. Please use tf.random.uniform instead.\n",
            "\n",
            "W0829 17:50:15.846988 140683416053632 deprecation_wrapper.py:119] From /usr/local/lib/python3.6/dist-packages/keras/optimizers.py:790: The name tf.train.Optimizer is deprecated. Please use tf.compat.v1.train.Optimizer instead.\n",
            "\n",
            "W0829 17:50:15.854364 140683416053632 deprecation_wrapper.py:119] From /usr/local/lib/python3.6/dist-packages/keras/backend/tensorflow_backend.py:3376: The name tf.log is deprecated. Please use tf.math.log instead.\n",
            "\n",
            "W0829 17:50:15.860613 140683416053632 deprecation.py:323] From /usr/local/lib/python3.6/dist-packages/tensorflow/python/ops/nn_impl.py:180: add_dispatch_support.<locals>.wrapper (from tensorflow.python.ops.array_ops) is deprecated and will be removed in a future version.\n",
            "Instructions for updating:\n",
            "Use tf.where in 2.0, which has the same broadcast rule as np.where\n"
          ],
          "name": "stderr"
        },
        {
          "output_type": "stream",
          "text": [
            "_________________________________________________________________\n",
            "Layer (type)                 Output Shape              Param #   \n",
            "=================================================================\n",
            "dense_1 (Dense)              (None, 8)                 72        \n",
            "_________________________________________________________________\n",
            "dense_2 (Dense)              (None, 4)                 36        \n",
            "_________________________________________________________________\n",
            "dense_3 (Dense)              (None, 1)                 5         \n",
            "=================================================================\n",
            "Total params: 113\n",
            "Trainable params: 113\n",
            "Non-trainable params: 0\n",
            "_________________________________________________________________\n",
            "None\n"
          ],
          "name": "stdout"
        }
      ]
    },
    {
      "cell_type": "markdown",
      "metadata": {
        "id": "gL766hA8zSWn",
        "colab_type": "text"
      },
      "source": [
        "we have all the information for each layer. The total number of parameters in this network is 113, so it's a relatively small network."
      ]
    },
    {
      "cell_type": "code",
      "metadata": {
        "id": "PBR9o37Ny-7p",
        "colab_type": "code",
        "colab": {}
      },
      "source": [
        "# Initialize the Keras Classifier\n",
        "\n",
        "model = KerasClassifier(build_fn = create_model, verbose = 0)"
      ],
      "execution_count": 0,
      "outputs": []
    },
    {
      "cell_type": "code",
      "metadata": {
        "id": "Tzva5SG7z4QC",
        "colab_type": "code",
        "colab": {
          "base_uri": "https://localhost:8080/",
          "height": 1000
        },
        "outputId": "d6dcbac5-b970-4f61-a114-4a10fb23a48b"
      },
      "source": [
        "# Defining grid search parameters \n",
        "\n",
        "batch_size = [10, 20, 40]\n",
        "epochs = [10,50,100]\n",
        "param_grid = dict(batch_size=batch_size, epochs=epochs)\n",
        "\n",
        "# Building and fitting the grid search\n",
        "grid = GridSearchCV(estimator = model, param_grid = param_grid, cv = KFold(random_state=seed), verbose = 10)\n",
        "grid_results = grid.fit(X_scaled, Y)"
      ],
      "execution_count": 22,
      "outputs": [
        {
          "output_type": "stream",
          "text": [
            "/usr/local/lib/python3.6/dist-packages/sklearn/model_selection/_split.py:431: FutureWarning: The default value of n_split will change from 3 to 5 in version 0.22. Specify it explicitly to silence this warning.\n",
            "  warnings.warn(NSPLIT_WARNING, FutureWarning)\n",
            "[Parallel(n_jobs=1)]: Using backend SequentialBackend with 1 concurrent workers.\n"
          ],
          "name": "stderr"
        },
        {
          "output_type": "stream",
          "text": [
            "Fitting 3 folds for each of 9 candidates, totalling 27 fits\n",
            "[CV] batch_size=10, epochs=10 ........................................\n",
            "[CV] ............ batch_size=10, epochs=10, score=0.718, total=   1.1s\n",
            "[CV] batch_size=10, epochs=10 ........................................\n"
          ],
          "name": "stdout"
        },
        {
          "output_type": "stream",
          "text": [
            "[Parallel(n_jobs=1)]: Done   1 out of   1 | elapsed:    1.1s remaining:    0.0s\n"
          ],
          "name": "stderr"
        },
        {
          "output_type": "stream",
          "text": [
            "[CV] ............ batch_size=10, epochs=10, score=0.748, total=   0.9s\n",
            "[CV] batch_size=10, epochs=10 ........................................\n"
          ],
          "name": "stdout"
        },
        {
          "output_type": "stream",
          "text": [
            "[Parallel(n_jobs=1)]: Done   2 out of   2 | elapsed:    2.0s remaining:    0.0s\n"
          ],
          "name": "stderr"
        },
        {
          "output_type": "stream",
          "text": [
            "[CV] ............ batch_size=10, epochs=10, score=0.854, total=   1.2s\n",
            "[CV] batch_size=10, epochs=50 ........................................\n"
          ],
          "name": "stdout"
        },
        {
          "output_type": "stream",
          "text": [
            "[Parallel(n_jobs=1)]: Done   3 out of   3 | elapsed:    3.2s remaining:    0.0s\n"
          ],
          "name": "stderr"
        },
        {
          "output_type": "stream",
          "text": [
            "[CV] ............ batch_size=10, epochs=50, score=0.718, total=   2.1s\n",
            "[CV] batch_size=10, epochs=50 ........................................\n"
          ],
          "name": "stdout"
        },
        {
          "output_type": "stream",
          "text": [
            "[Parallel(n_jobs=1)]: Done   4 out of   4 | elapsed:    5.3s remaining:    0.0s\n"
          ],
          "name": "stderr"
        },
        {
          "output_type": "stream",
          "text": [
            "[CV] ............ batch_size=10, epochs=50, score=0.695, total=   2.3s\n",
            "[CV] batch_size=10, epochs=50 ........................................\n"
          ],
          "name": "stdout"
        },
        {
          "output_type": "stream",
          "text": [
            "[Parallel(n_jobs=1)]: Done   5 out of   5 | elapsed:    7.6s remaining:    0.0s\n"
          ],
          "name": "stderr"
        },
        {
          "output_type": "stream",
          "text": [
            "[CV] ............ batch_size=10, epochs=50, score=0.815, total=   2.5s\n",
            "[CV] batch_size=10, epochs=100 .......................................\n"
          ],
          "name": "stdout"
        },
        {
          "output_type": "stream",
          "text": [
            "[Parallel(n_jobs=1)]: Done   6 out of   6 | elapsed:   10.1s remaining:    0.0s\n"
          ],
          "name": "stderr"
        },
        {
          "output_type": "stream",
          "text": [
            "[CV] ........... batch_size=10, epochs=100, score=0.710, total=   3.7s\n",
            "[CV] batch_size=10, epochs=100 .......................................\n"
          ],
          "name": "stdout"
        },
        {
          "output_type": "stream",
          "text": [
            "[Parallel(n_jobs=1)]: Done   7 out of   7 | elapsed:   13.8s remaining:    0.0s\n"
          ],
          "name": "stderr"
        },
        {
          "output_type": "stream",
          "text": [
            "[CV] ........... batch_size=10, epochs=100, score=0.779, total=   4.1s\n",
            "[CV] batch_size=10, epochs=100 .......................................\n"
          ],
          "name": "stdout"
        },
        {
          "output_type": "stream",
          "text": [
            "[Parallel(n_jobs=1)]: Done   8 out of   8 | elapsed:   18.0s remaining:    0.0s\n"
          ],
          "name": "stderr"
        },
        {
          "output_type": "stream",
          "text": [
            "[CV] ........... batch_size=10, epochs=100, score=0.831, total=   4.4s\n",
            "[CV] batch_size=20, epochs=10 ........................................\n"
          ],
          "name": "stdout"
        },
        {
          "output_type": "stream",
          "text": [
            "[Parallel(n_jobs=1)]: Done   9 out of   9 | elapsed:   22.4s remaining:    0.0s\n"
          ],
          "name": "stderr"
        },
        {
          "output_type": "stream",
          "text": [
            "[CV] ............ batch_size=20, epochs=10, score=0.756, total=   1.6s\n",
            "[CV] batch_size=20, epochs=10 ........................................\n",
            "[CV] ............ batch_size=20, epochs=10, score=0.763, total=   1.6s\n",
            "[CV] batch_size=20, epochs=10 ........................................\n",
            "[CV] ............ batch_size=20, epochs=10, score=0.808, total=   1.8s\n",
            "[CV] batch_size=20, epochs=50 ........................................\n",
            "[CV] ............ batch_size=20, epochs=50, score=0.725, total=   2.7s\n",
            "[CV] batch_size=20, epochs=50 ........................................\n",
            "[CV] ............ batch_size=20, epochs=50, score=0.756, total=   2.6s\n",
            "[CV] batch_size=20, epochs=50 ........................................\n",
            "[CV] ............ batch_size=20, epochs=50, score=0.838, total=   2.7s\n",
            "[CV] batch_size=20, epochs=100 .......................................\n",
            "[CV] ........... batch_size=20, epochs=100, score=0.733, total=   3.5s\n",
            "[CV] batch_size=20, epochs=100 .......................................\n",
            "[CV] ........... batch_size=20, epochs=100, score=0.802, total=   3.9s\n",
            "[CV] batch_size=20, epochs=100 .......................................\n",
            "[CV] ........... batch_size=20, epochs=100, score=0.823, total=   3.7s\n",
            "[CV] batch_size=40, epochs=10 ........................................\n",
            "[CV] ............ batch_size=40, epochs=10, score=0.718, total=   2.4s\n",
            "[CV] batch_size=40, epochs=10 ........................................\n",
            "[CV] ............ batch_size=40, epochs=10, score=0.763, total=   2.5s\n",
            "[CV] batch_size=40, epochs=10 ........................................\n",
            "[CV] ............ batch_size=40, epochs=10, score=0.815, total=   2.5s\n",
            "[CV] batch_size=40, epochs=50 ........................................\n",
            "[CV] ............ batch_size=40, epochs=50, score=0.748, total=   2.9s\n",
            "[CV] batch_size=40, epochs=50 ........................................\n",
            "[CV] ............ batch_size=40, epochs=50, score=0.756, total=   3.3s\n",
            "[CV] batch_size=40, epochs=50 ........................................\n",
            "[CV] ............ batch_size=40, epochs=50, score=0.815, total=   3.1s\n",
            "[CV] batch_size=40, epochs=100 .......................................\n",
            "[CV] ........... batch_size=40, epochs=100, score=0.695, total=   3.6s\n",
            "[CV] batch_size=40, epochs=100 .......................................\n",
            "[CV] ........... batch_size=40, epochs=100, score=0.771, total=   3.8s\n",
            "[CV] batch_size=40, epochs=100 .......................................\n",
            "[CV] ........... batch_size=40, epochs=100, score=0.800, total=   3.9s\n"
          ],
          "name": "stdout"
        },
        {
          "output_type": "stream",
          "text": [
            "[Parallel(n_jobs=1)]: Done  27 out of  27 | elapsed:  1.2min finished\n",
            "/usr/local/lib/python3.6/dist-packages/sklearn/model_selection/_search.py:814: DeprecationWarning: The default of the `iid` parameter will change from True to False in version 0.22 and will be removed in 0.24. This will change numeric results when test-set sizes are unequal.\n",
            "  DeprecationWarning)\n"
          ],
          "name": "stderr"
        }
      ]
    },
    {
      "cell_type": "code",
      "metadata": {
        "id": "lj08NHZX1sil",
        "colab_type": "code",
        "colab": {
          "base_uri": "https://localhost:8080/",
          "height": 187
        },
        "outputId": "b141d81b-ed85-41b4-8803-18e60d39cfe1"
      },
      "source": [
        "# Summarize the results\n",
        "print(\"Best score: {0}, using {1}\".format(grid_results.best_score_, grid_results.best_params_))\n",
        "means = grid_results.cv_results_['mean_test_score']\n",
        "stds = grid_results.cv_results_['std_test_score']\n",
        "params = grid_results.cv_results_['params']\n",
        "for mean, stdev, param in zip(means, stds, params):\n",
        "    print('{0} ({1}) with: {2}'.format(mean, stdev, param))"
      ],
      "execution_count": 23,
      "outputs": [
        {
          "output_type": "stream",
          "text": [
            "Best score: 0.7857142886032864, using {'batch_size': 20, 'epochs': 100}\n",
            "0.7729591797201001 (0.05832809005286761) with: {'batch_size': 10, 'epochs': 10}\n",
            "0.7423469381672996 (0.05229264575564745) with: {'batch_size': 10, 'epochs': 50}\n",
            "0.7729591858022067 (0.04946633857962282) with: {'batch_size': 10, 'epochs': 100}\n",
            "0.7755102027131586 (0.022882912280435347) with: {'batch_size': 20, 'epochs': 10}\n",
            "0.7729591859542594 (0.04779843668270371) with: {'batch_size': 20, 'epochs': 50}\n",
            "0.7857142886032864 (0.03848804526649413) with: {'batch_size': 20, 'epochs': 100}\n",
            "0.7653061235133483 (0.03993590918728177) with: {'batch_size': 40, 'epochs': 10}\n",
            "0.7729591692284662 (0.030047051775506945) with: {'batch_size': 40, 'epochs': 50}\n",
            "0.7551020418806952 (0.044428506080056884) with: {'batch_size': 40, 'epochs': 100}\n"
          ],
          "name": "stdout"
        }
      ]
    },
    {
      "cell_type": "markdown",
      "metadata": {
        "id": "EXnYTwp035fl",
        "colab_type": "text"
      },
      "source": [
        " As we can see that 78.57% is the best score we are getting, using 100 epochs with a batch size of 20\n",
        " \n",
        "Now, we will try to reduce the overfitting of the model by introducing the Dropout layer that periodically knocks out some of the neurons so that the others have to pick up the slack. As a result, it prevents any one neuron from becoming too important to the overall network, or too heavily weighted. This is going to help the network generalize to new models more effectively. \n",
        "\n",
        "Let's also modify the KerasClassifier a little because we know that the best scenario is to have a batch size of 20 with 100 epochs."
      ]
    },
    {
      "cell_type": "code",
      "metadata": {
        "id": "zcZvHSTP3SJb",
        "colab_type": "code",
        "colab": {
          "base_uri": "https://localhost:8080/",
          "height": 1000
        },
        "outputId": "5296c977-b042-44ec-be1a-38cafcae2401"
      },
      "source": [
        "# Reducing overfitting using dropout regularization\n",
        "from keras.layers import Dropout\n",
        "\n",
        "\n",
        "seed = 100\n",
        "np.random.seed(seed)\n",
        "\n",
        "def create_model(learn_rate, dropout_rate):\n",
        "     # create model\n",
        "     model = Sequential()\n",
        "     model.add(Dense(8, input_dim = 8, kernel_initializer='normal', activation='relu'))\n",
        "     model.add(Dropout(dropout_rate))\n",
        "     model.add(Dense(4, input_dim = 8, kernel_initializer='normal', activation='relu'))\n",
        "     model.add(Dropout(dropout_rate))\n",
        "     model.add(Dense(1, activation='sigmoid'))\n",
        " \n",
        "     # compile the model\n",
        "     adam = Adam(lr = learn_rate)\n",
        "     model.compile(loss = 'binary_crossentropy', optimizer = adam, metrics = ['accuracy'])\n",
        "     return model\n",
        "\n",
        "# Initializing keras model \n",
        "model = KerasClassifier(build_fn = create_model, epochs = 100, batch_size = 20, verbose = 0)\n",
        "\n",
        "# Defining grid search parameters \n",
        "learn_rate = [0.001, 0.01, 0.1]\n",
        "dropout_rate = [0.0, 0.1, 0.2]\n",
        "param_grid = dict(learn_rate=learn_rate, dropout_rate=dropout_rate)\n",
        "\n",
        "# Building and fitting the grid search\n",
        "grid = GridSearchCV(estimator = model, param_grid = param_grid, cv = KFold(random_state=seed), verbose = 10)\n",
        "grid_results = grid.fit(X_scaled, Y)\n",
        "\n",
        "# Summarize the results\n",
        "print(\"Best score: {0}, using {1}\".format(grid_results.best_score_, grid_results.best_params_))\n",
        "means = grid_results.cv_results_['mean_test_score']\n",
        "stds = grid_results.cv_results_['std_test_score']\n",
        "params = grid_results.cv_results_['params']\n",
        "for mean, stdev, param in zip(means, stds, params):\n",
        "    print('{0} ({1}) with: {2}'.format(mean, stdev, param))"
      ],
      "execution_count": 24,
      "outputs": [
        {
          "output_type": "stream",
          "text": [
            "Fitting 3 folds for each of 9 candidates, totalling 27 fits\n",
            "[CV] dropout_rate=0.0, learn_rate=0.001 ..............................\n"
          ],
          "name": "stdout"
        },
        {
          "output_type": "stream",
          "text": [
            "/usr/local/lib/python3.6/dist-packages/sklearn/model_selection/_split.py:431: FutureWarning: The default value of n_split will change from 3 to 5 in version 0.22. Specify it explicitly to silence this warning.\n",
            "  warnings.warn(NSPLIT_WARNING, FutureWarning)\n",
            "[Parallel(n_jobs=1)]: Using backend SequentialBackend with 1 concurrent workers.\n"
          ],
          "name": "stderr"
        },
        {
          "output_type": "stream",
          "text": [
            "[CV] .. dropout_rate=0.0, learn_rate=0.001, score=0.725, total=   4.9s\n",
            "[CV] dropout_rate=0.0, learn_rate=0.001 ..............................\n"
          ],
          "name": "stdout"
        },
        {
          "output_type": "stream",
          "text": [
            "[Parallel(n_jobs=1)]: Done   1 out of   1 | elapsed:    4.9s remaining:    0.0s\n"
          ],
          "name": "stderr"
        },
        {
          "output_type": "stream",
          "text": [
            "[CV] .. dropout_rate=0.0, learn_rate=0.001, score=0.779, total=   5.1s\n",
            "[CV] dropout_rate=0.0, learn_rate=0.001 ..............................\n"
          ],
          "name": "stdout"
        },
        {
          "output_type": "stream",
          "text": [
            "[Parallel(n_jobs=1)]: Done   2 out of   2 | elapsed:   10.0s remaining:    0.0s\n"
          ],
          "name": "stderr"
        },
        {
          "output_type": "stream",
          "text": [
            "[CV] .. dropout_rate=0.0, learn_rate=0.001, score=0.808, total=   5.5s\n",
            "[CV] dropout_rate=0.0, learn_rate=0.01 ...............................\n"
          ],
          "name": "stdout"
        },
        {
          "output_type": "stream",
          "text": [
            "[Parallel(n_jobs=1)]: Done   3 out of   3 | elapsed:   15.5s remaining:    0.0s\n"
          ],
          "name": "stderr"
        },
        {
          "output_type": "stream",
          "text": [
            "[CV] ... dropout_rate=0.0, learn_rate=0.01, score=0.702, total=   5.3s\n",
            "[CV] dropout_rate=0.0, learn_rate=0.01 ...............................\n"
          ],
          "name": "stdout"
        },
        {
          "output_type": "stream",
          "text": [
            "[Parallel(n_jobs=1)]: Done   4 out of   4 | elapsed:   20.8s remaining:    0.0s\n"
          ],
          "name": "stderr"
        },
        {
          "output_type": "stream",
          "text": [
            "[CV] ... dropout_rate=0.0, learn_rate=0.01, score=0.779, total=   5.3s\n",
            "[CV] dropout_rate=0.0, learn_rate=0.01 ...............................\n"
          ],
          "name": "stdout"
        },
        {
          "output_type": "stream",
          "text": [
            "[Parallel(n_jobs=1)]: Done   5 out of   5 | elapsed:   26.1s remaining:    0.0s\n"
          ],
          "name": "stderr"
        },
        {
          "output_type": "stream",
          "text": [
            "[CV] ... dropout_rate=0.0, learn_rate=0.01, score=0.815, total=   5.4s\n",
            "[CV] dropout_rate=0.0, learn_rate=0.1 ................................\n"
          ],
          "name": "stdout"
        },
        {
          "output_type": "stream",
          "text": [
            "[Parallel(n_jobs=1)]: Done   6 out of   6 | elapsed:   31.6s remaining:    0.0s\n"
          ],
          "name": "stderr"
        },
        {
          "output_type": "stream",
          "text": [
            "[CV] .... dropout_rate=0.0, learn_rate=0.1, score=0.725, total=   5.6s\n",
            "[CV] dropout_rate=0.0, learn_rate=0.1 ................................\n"
          ],
          "name": "stdout"
        },
        {
          "output_type": "stream",
          "text": [
            "[Parallel(n_jobs=1)]: Done   7 out of   7 | elapsed:   37.1s remaining:    0.0s\n"
          ],
          "name": "stderr"
        },
        {
          "output_type": "stream",
          "text": [
            "[CV] .... dropout_rate=0.0, learn_rate=0.1, score=0.748, total=   5.7s\n",
            "[CV] dropout_rate=0.0, learn_rate=0.1 ................................\n"
          ],
          "name": "stdout"
        },
        {
          "output_type": "stream",
          "text": [
            "[Parallel(n_jobs=1)]: Done   8 out of   8 | elapsed:   42.9s remaining:    0.0s\n",
            "[Parallel(n_jobs=1)]: Done   9 out of   9 | elapsed:   48.7s remaining:    0.0s\n",
            "W0829 17:52:24.011076 140683416053632 deprecation.py:506] From /usr/local/lib/python3.6/dist-packages/keras/backend/tensorflow_backend.py:3445: calling dropout (from tensorflow.python.ops.nn_ops) with keep_prob is deprecated and will be removed in a future version.\n",
            "Instructions for updating:\n",
            "Please use `rate` instead of `keep_prob`. Rate should be set to `rate = 1 - keep_prob`.\n"
          ],
          "name": "stderr"
        },
        {
          "output_type": "stream",
          "text": [
            "[CV] .... dropout_rate=0.0, learn_rate=0.1, score=0.785, total=   5.8s\n",
            "[CV] dropout_rate=0.1, learn_rate=0.001 ..............................\n",
            "[CV] .. dropout_rate=0.1, learn_rate=0.001, score=0.748, total=   6.2s\n",
            "[CV] dropout_rate=0.1, learn_rate=0.001 ..............................\n",
            "[CV] .. dropout_rate=0.1, learn_rate=0.001, score=0.771, total=   6.4s\n",
            "[CV] dropout_rate=0.1, learn_rate=0.001 ..............................\n",
            "[CV] .. dropout_rate=0.1, learn_rate=0.001, score=0.815, total=   6.8s\n",
            "[CV] dropout_rate=0.1, learn_rate=0.01 ...............................\n",
            "[CV] ... dropout_rate=0.1, learn_rate=0.01, score=0.756, total=   6.6s\n",
            "[CV] dropout_rate=0.1, learn_rate=0.01 ...............................\n",
            "[CV] ... dropout_rate=0.1, learn_rate=0.01, score=0.725, total=   6.8s\n",
            "[CV] dropout_rate=0.1, learn_rate=0.01 ...............................\n",
            "[CV] ... dropout_rate=0.1, learn_rate=0.01, score=0.854, total=   6.8s\n",
            "[CV] dropout_rate=0.1, learn_rate=0.1 ................................\n",
            "[CV] .... dropout_rate=0.1, learn_rate=0.1, score=0.695, total=   7.1s\n",
            "[CV] dropout_rate=0.1, learn_rate=0.1 ................................\n",
            "[CV] .... dropout_rate=0.1, learn_rate=0.1, score=0.679, total=   7.3s\n",
            "[CV] dropout_rate=0.1, learn_rate=0.1 ................................\n",
            "[CV] .... dropout_rate=0.1, learn_rate=0.1, score=0.700, total=   7.3s\n",
            "[CV] dropout_rate=0.2, learn_rate=0.001 ..............................\n",
            "[CV] .. dropout_rate=0.2, learn_rate=0.001, score=0.725, total=   7.4s\n",
            "[CV] dropout_rate=0.2, learn_rate=0.001 ..............................\n",
            "[CV] .. dropout_rate=0.2, learn_rate=0.001, score=0.763, total=   7.6s\n",
            "[CV] dropout_rate=0.2, learn_rate=0.001 ..............................\n",
            "[CV] .. dropout_rate=0.2, learn_rate=0.001, score=0.815, total=   8.2s\n",
            "[CV] dropout_rate=0.2, learn_rate=0.01 ...............................\n",
            "[CV] ... dropout_rate=0.2, learn_rate=0.01, score=0.702, total=   7.9s\n",
            "[CV] dropout_rate=0.2, learn_rate=0.01 ...............................\n",
            "[CV] ... dropout_rate=0.2, learn_rate=0.01, score=0.740, total=   8.0s\n",
            "[CV] dropout_rate=0.2, learn_rate=0.01 ...............................\n",
            "[CV] ... dropout_rate=0.2, learn_rate=0.01, score=0.808, total=   8.1s\n",
            "[CV] dropout_rate=0.2, learn_rate=0.1 ................................\n",
            "[CV] .... dropout_rate=0.2, learn_rate=0.1, score=0.725, total=   8.3s\n",
            "[CV] dropout_rate=0.2, learn_rate=0.1 ................................\n",
            "[CV] .... dropout_rate=0.2, learn_rate=0.1, score=0.748, total=   8.5s\n",
            "[CV] dropout_rate=0.2, learn_rate=0.1 ................................\n",
            "[CV] .... dropout_rate=0.2, learn_rate=0.1, score=0.785, total=   8.6s\n"
          ],
          "name": "stdout"
        },
        {
          "output_type": "stream",
          "text": [
            "[Parallel(n_jobs=1)]: Done  27 out of  27 | elapsed:  3.0min finished\n",
            "/usr/local/lib/python3.6/dist-packages/sklearn/model_selection/_search.py:814: DeprecationWarning: The default of the `iid` parameter will change from True to False in version 0.22 and will be removed in 0.24. This will change numeric results when test-set sizes are unequal.\n",
            "  DeprecationWarning)\n"
          ],
          "name": "stderr"
        },
        {
          "output_type": "stream",
          "text": [
            "Best score: 0.7780612301157446, using {'dropout_rate': 0.1, 'learn_rate': 0.001}\n",
            "0.7704081637214641 (0.034159150204826544) with: {'dropout_rate': 0.0, 'learn_rate': 0.001}\n",
            "0.7653061247297696 (0.047095942255719794) with: {'dropout_rate': 0.0, 'learn_rate': 0.01}\n",
            "0.7525510211684265 (0.024449296582467077) with: {'dropout_rate': 0.0, 'learn_rate': 0.1}\n",
            "0.7780612301157446 (0.02790754564414863) with: {'dropout_rate': 0.1, 'learn_rate': 0.001}\n",
            "0.7780612250980066 (0.05482284232971851) with: {'dropout_rate': 0.1, 'learn_rate': 0.01}\n",
            "0.6913265272670862 (0.008733508833237242) with: {'dropout_rate': 0.1, 'learn_rate': 0.1}\n",
            "0.7678571460502488 (0.036935438132791334) with: {'dropout_rate': 0.2, 'learn_rate': 0.001}\n",
            "0.7500000012164213 (0.04353062291099642) with: {'dropout_rate': 0.2, 'learn_rate': 0.01}\n",
            "0.7525510239053745 (0.024449300626164943) with: {'dropout_rate': 0.2, 'learn_rate': 0.1}\n"
          ],
          "name": "stdout"
        }
      ]
    },
    {
      "cell_type": "markdown",
      "metadata": {
        "id": "_YYJMu7x9SqJ",
        "colab_type": "text"
      },
      "source": [
        "As we can see, we achieved our best outcome with a learn rate of 0.001 and dropout rate of 0.1 Lowering the learning rate by just a decimal point prevented our network from overgeneralizing or overfitting too much, in a similar way to the dropout process. "
      ]
    },
    {
      "cell_type": "markdown",
      "metadata": {
        "id": "kD-fYeCr-DkH",
        "colab_type": "text"
      },
      "source": [
        "#### Finding the optimal hyperparameters\n",
        "Let's optimize the weight initialization that we're applying to the end of each of these neurons. To do this, we will need to modify some parameters and optimizing the search.\n",
        "\n",
        "We now know the best learn_rate and dropout_rate, so we are going to hardcode these and remove them. We are also going to remove the Dropout layers that we added in the previous section.\n",
        "\n",
        "Since we are trying to optimize the *activation* and *init* variables, we will define them in the *create_model()* function. We will also replace the *kernel_initializer* and *activation* parameters in the layers with the variables that we just defined."
      ]
    },
    {
      "cell_type": "code",
      "metadata": {
        "id": "GeCgQdN0744U",
        "colab_type": "code",
        "colab": {
          "base_uri": "https://localhost:8080/",
          "height": 1000
        },
        "outputId": "36b02a61-5cae-4a52-d2f7-20cc76a5d8b3"
      },
      "source": [
        "# Do a grid search to optimize kernel initialization and activation functions\n",
        "\n",
        "# Define a random seed\n",
        "seed = 100\n",
        "np.random.seed(seed)\n",
        "\n",
        "# Start defining the model\n",
        "def create_model(activation, init):  # defined variables here\n",
        "    # create model\n",
        "    model = Sequential()\n",
        "    model.add(Dense(8, input_dim = 8, kernel_initializer= init, activation= activation))\n",
        "    model.add(Dense(4, input_dim = 8, kernel_initializer= init, activation= activation))\n",
        "    model.add(Dense(1, activation='sigmoid'))\n",
        "    \n",
        "    # compile the model\n",
        "    adam = Adam(lr = 0.001)   # hardcoded the learning rate\n",
        "    model.compile(loss = 'binary_crossentropy', optimizer = adam, metrics = ['accuracy'])\n",
        "    return model\n",
        "\n",
        "# create the model\n",
        "model = KerasClassifier(build_fn = create_model, epochs = 100, batch_size = 20, verbose = 0)\n",
        "\n",
        "# defined the grid search parameters here\n",
        "activation = ['softmax', 'relu', 'tanh', 'linear']\n",
        "init = ['uniform', 'normal', 'zero']\n",
        "\n",
        "# made a dictionary of the grid search parameters here\n",
        "param_grid = dict(activation = activation, init = init)\n",
        "\n",
        "# build and fit the GridSearchCV\n",
        "grid = GridSearchCV(estimator = model, param_grid = param_grid, cv = KFold(random_state=seed), verbose = 10)\n",
        "grid_results = grid.fit(X_scaled, Y)\n",
        "\n",
        "# summarize the results\n",
        "print(\"Best score: {0}, using {1}\".format(grid_results.best_score_, grid_results.best_params_))\n",
        "means = grid_results.cv_results_['mean_test_score']\n",
        "stds = grid_results.cv_results_['std_test_score']\n",
        "params = grid_results.cv_results_['params']\n",
        "for mean, stdev, param in zip(means, stds, params):\n",
        "    print('{0} ({1}) with: {2}'.format(mean, stdev, param))"
      ],
      "execution_count": 25,
      "outputs": [
        {
          "output_type": "stream",
          "text": [
            "Fitting 3 folds for each of 12 candidates, totalling 36 fits\n",
            "[CV] activation=softmax, init=uniform ................................\n"
          ],
          "name": "stdout"
        },
        {
          "output_type": "stream",
          "text": [
            "/usr/local/lib/python3.6/dist-packages/sklearn/model_selection/_split.py:431: FutureWarning: The default value of n_split will change from 3 to 5 in version 0.22. Specify it explicitly to silence this warning.\n",
            "  warnings.warn(NSPLIT_WARNING, FutureWarning)\n",
            "[Parallel(n_jobs=1)]: Using backend SequentialBackend with 1 concurrent workers.\n"
          ],
          "name": "stderr"
        },
        {
          "output_type": "stream",
          "text": [
            "[CV] .... activation=softmax, init=uniform, score=0.740, total=   8.7s\n",
            "[CV] activation=softmax, init=uniform ................................\n"
          ],
          "name": "stdout"
        },
        {
          "output_type": "stream",
          "text": [
            "[Parallel(n_jobs=1)]: Done   1 out of   1 | elapsed:    8.7s remaining:    0.0s\n"
          ],
          "name": "stderr"
        },
        {
          "output_type": "stream",
          "text": [
            "[CV] .... activation=softmax, init=uniform, score=0.756, total=   8.8s\n",
            "[CV] activation=softmax, init=uniform ................................\n"
          ],
          "name": "stdout"
        },
        {
          "output_type": "stream",
          "text": [
            "[Parallel(n_jobs=1)]: Done   2 out of   2 | elapsed:   17.5s remaining:    0.0s\n"
          ],
          "name": "stderr"
        },
        {
          "output_type": "stream",
          "text": [
            "[CV] .... activation=softmax, init=uniform, score=0.823, total=   8.9s\n",
            "[CV] activation=softmax, init=normal .................................\n"
          ],
          "name": "stdout"
        },
        {
          "output_type": "stream",
          "text": [
            "[Parallel(n_jobs=1)]: Done   3 out of   3 | elapsed:   26.4s remaining:    0.0s\n"
          ],
          "name": "stderr"
        },
        {
          "output_type": "stream",
          "text": [
            "[CV] ..... activation=softmax, init=normal, score=0.748, total=   9.1s\n",
            "[CV] activation=softmax, init=normal .................................\n"
          ],
          "name": "stdout"
        },
        {
          "output_type": "stream",
          "text": [
            "[Parallel(n_jobs=1)]: Done   4 out of   4 | elapsed:   35.5s remaining:    0.0s\n"
          ],
          "name": "stderr"
        },
        {
          "output_type": "stream",
          "text": [
            "[CV] ..... activation=softmax, init=normal, score=0.756, total=   9.1s\n",
            "[CV] activation=softmax, init=normal .................................\n"
          ],
          "name": "stdout"
        },
        {
          "output_type": "stream",
          "text": [
            "[Parallel(n_jobs=1)]: Done   5 out of   5 | elapsed:   44.6s remaining:    0.0s\n"
          ],
          "name": "stderr"
        },
        {
          "output_type": "stream",
          "text": [
            "[CV] ..... activation=softmax, init=normal, score=0.808, total=   9.9s\n",
            "[CV] activation=softmax, init=zero ...................................\n"
          ],
          "name": "stdout"
        },
        {
          "output_type": "stream",
          "text": [
            "[Parallel(n_jobs=1)]: Done   6 out of   6 | elapsed:   54.5s remaining:    0.0s\n"
          ],
          "name": "stderr"
        },
        {
          "output_type": "stream",
          "text": [
            "[CV] ....... activation=softmax, init=zero, score=0.611, total=   9.7s\n",
            "[CV] activation=softmax, init=zero ...................................\n"
          ],
          "name": "stdout"
        },
        {
          "output_type": "stream",
          "text": [
            "[Parallel(n_jobs=1)]: Done   7 out of   7 | elapsed:  1.1min remaining:    0.0s\n"
          ],
          "name": "stderr"
        },
        {
          "output_type": "stream",
          "text": [
            "[CV] ....... activation=softmax, init=zero, score=0.695, total=   9.4s\n",
            "[CV] activation=softmax, init=zero ...................................\n"
          ],
          "name": "stdout"
        },
        {
          "output_type": "stream",
          "text": [
            "[Parallel(n_jobs=1)]: Done   8 out of   8 | elapsed:  1.2min remaining:    0.0s\n"
          ],
          "name": "stderr"
        },
        {
          "output_type": "stream",
          "text": [
            "[CV] ....... activation=softmax, init=zero, score=0.700, total=   9.6s\n",
            "[CV] activation=relu, init=uniform ...................................\n"
          ],
          "name": "stdout"
        },
        {
          "output_type": "stream",
          "text": [
            "[Parallel(n_jobs=1)]: Done   9 out of   9 | elapsed:  1.4min remaining:    0.0s\n"
          ],
          "name": "stderr"
        },
        {
          "output_type": "stream",
          "text": [
            "[CV] ....... activation=relu, init=uniform, score=0.725, total=   9.8s\n",
            "[CV] activation=relu, init=uniform ...................................\n",
            "[CV] ....... activation=relu, init=uniform, score=0.756, total=   9.9s\n",
            "[CV] activation=relu, init=uniform ...................................\n",
            "[CV] ....... activation=relu, init=uniform, score=0.869, total=   9.9s\n",
            "[CV] activation=relu, init=normal ....................................\n",
            "[CV] ........ activation=relu, init=normal, score=0.748, total=  10.0s\n",
            "[CV] activation=relu, init=normal ....................................\n",
            "[CV] ........ activation=relu, init=normal, score=0.771, total=  10.1s\n",
            "[CV] activation=relu, init=normal ....................................\n",
            "[CV] ........ activation=relu, init=normal, score=0.823, total=  10.3s\n",
            "[CV] activation=relu, init=zero ......................................\n",
            "[CV] .......... activation=relu, init=zero, score=0.611, total=  10.4s\n",
            "[CV] activation=relu, init=zero ......................................\n",
            "[CV] .......... activation=relu, init=zero, score=0.695, total=  10.4s\n",
            "[CV] activation=relu, init=zero ......................................\n",
            "[CV] .......... activation=relu, init=zero, score=0.700, total=  10.5s\n",
            "[CV] activation=tanh, init=uniform ...................................\n",
            "[CV] ....... activation=tanh, init=uniform, score=0.748, total=  10.7s\n",
            "[CV] activation=tanh, init=uniform ...................................\n",
            "[CV] ....... activation=tanh, init=uniform, score=0.763, total=  10.8s\n",
            "[CV] activation=tanh, init=uniform ...................................\n",
            "[CV] ....... activation=tanh, init=uniform, score=0.815, total=  11.0s\n",
            "[CV] activation=tanh, init=normal ....................................\n",
            "[CV] ........ activation=tanh, init=normal, score=0.748, total=  11.0s\n",
            "[CV] activation=tanh, init=normal ....................................\n",
            "[CV] ........ activation=tanh, init=normal, score=0.763, total=  11.1s\n",
            "[CV] activation=tanh, init=normal ....................................\n",
            "[CV] ........ activation=tanh, init=normal, score=0.823, total=  11.8s\n",
            "[CV] activation=tanh, init=zero ......................................\n",
            "[CV] .......... activation=tanh, init=zero, score=0.611, total=  11.3s\n",
            "[CV] activation=tanh, init=zero ......................................\n",
            "[CV] .......... activation=tanh, init=zero, score=0.695, total=  11.5s\n",
            "[CV] activation=tanh, init=zero ......................................\n",
            "[CV] .......... activation=tanh, init=zero, score=0.700, total=  11.5s\n",
            "[CV] activation=linear, init=uniform .................................\n",
            "[CV] ..... activation=linear, init=uniform, score=0.771, total=  11.6s\n",
            "[CV] activation=linear, init=uniform .................................\n",
            "[CV] ..... activation=linear, init=uniform, score=0.763, total=  11.6s\n",
            "[CV] activation=linear, init=uniform .................................\n",
            "[CV] ..... activation=linear, init=uniform, score=0.823, total=  11.8s\n",
            "[CV] activation=linear, init=normal ..................................\n",
            "[CV] ...... activation=linear, init=normal, score=0.756, total=  12.1s\n",
            "[CV] activation=linear, init=normal ..................................\n",
            "[CV] ...... activation=linear, init=normal, score=0.771, total=  12.1s\n",
            "[CV] activation=linear, init=normal ..................................\n",
            "[CV] ...... activation=linear, init=normal, score=0.831, total=  12.2s\n",
            "[CV] activation=linear, init=zero ....................................\n",
            "[CV] ........ activation=linear, init=zero, score=0.611, total=  12.4s\n",
            "[CV] activation=linear, init=zero ....................................\n",
            "[CV] ........ activation=linear, init=zero, score=0.695, total=  12.8s\n",
            "[CV] activation=linear, init=zero ....................................\n",
            "[CV] ........ activation=linear, init=zero, score=0.700, total=  12.7s\n"
          ],
          "name": "stdout"
        },
        {
          "output_type": "stream",
          "text": [
            "[Parallel(n_jobs=1)]: Done  36 out of  36 | elapsed:  6.4min finished\n",
            "/usr/local/lib/python3.6/dist-packages/sklearn/model_selection/_search.py:814: DeprecationWarning: The default of the `iid` parameter will change from True to False in version 0.22 and will be removed in 0.24. This will change numeric results when test-set sizes are unequal.\n",
            "  DeprecationWarning)\n"
          ],
          "name": "stderr"
        },
        {
          "output_type": "stream",
          "text": [
            "Best score: 0.7857142931648663, using {'activation': 'linear', 'init': 'normal'}\n",
            "0.772959189299418 (0.035850439127250604) with: {'activation': 'softmax', 'init': 'uniform'}\n",
            "0.7704081716282027 (0.026447769946544075) with: {'activation': 'softmax', 'init': 'normal'}\n",
            "0.6683673458744068 (0.040922317011154695) with: {'activation': 'softmax', 'init': 'zero'}\n",
            "0.7831632721484924 (0.061897671268579375) with: {'activation': 'relu', 'init': 'uniform'}\n",
            "0.7806122541731718 (0.031342815288587005) with: {'activation': 'relu', 'init': 'normal'}\n",
            "0.6683673458744068 (0.040922317011154695) with: {'activation': 'relu', 'init': 'zero'}\n",
            "0.7755102090993706 (0.028772600766583566) with: {'activation': 'tanh', 'init': 'uniform'}\n",
            "0.7780612270746913 (0.03231746775937566) with: {'activation': 'tanh', 'init': 'normal'}\n",
            "0.6683673458744068 (0.040922317011154695) with: {'activation': 'tanh', 'init': 'zero'}\n",
            "0.785714290123813 (0.02650267677503863) with: {'activation': 'linear', 'init': 'uniform'}\n",
            "0.7857142931648663 (0.032344597410169845) with: {'activation': 'linear', 'init': 'normal'}\n",
            "0.6683673458744068 (0.040922317011154695) with: {'activation': 'linear', 'init': 'zero'}\n"
          ],
          "name": "stdout"
        }
      ]
    },
    {
      "cell_type": "markdown",
      "metadata": {
        "id": "234m7lIHBQY4",
        "colab_type": "text"
      },
      "source": [
        "We find that the **linear** activation function performs the best when coupled with a **normal** initialization function. We can now use these to our advantage in order to fine-tune the neurons."
      ]
    },
    {
      "cell_type": "markdown",
      "metadata": {
        "id": "SjgEag2rBn-t",
        "colab_type": "text"
      },
      "source": [
        "#### Optimizing the number of neurons\n",
        "Let's tune the number of neurons in each of these layers. \n",
        "\n",
        "Let's convert the total number of neurons present in each hidden layer into variables, such as neuron1 and neuron2. and define these variables in the create_model() function, so that they are called every time we execute it.\n",
        "\n",
        "Let's also change the kernel_initializer and activation values to *normal* and *linear*, since those were the ones that performed best."
      ]
    },
    {
      "cell_type": "code",
      "metadata": {
        "id": "HhEQyu2f_JlS",
        "colab_type": "code",
        "colab": {
          "base_uri": "https://localhost:8080/",
          "height": 1000
        },
        "outputId": "39fa8f0f-69ce-4894-bd83-07182ec9df67"
      },
      "source": [
        "# Do a grid search to find the optimal number of neurons in each hidden layer\n",
        "# Define a random seed\n",
        "seed = 100\n",
        "np.random.seed(seed)\n",
        "\n",
        "# Start defining the model\n",
        "def create_model(neuron1, neuron2):\n",
        "    # create model\n",
        "    model = Sequential()\n",
        "    model.add(Dense(neuron1, input_dim = 8, kernel_initializer= 'normal', activation= 'linear'))\n",
        "    model.add(Dense(neuron2, input_dim = neuron1, kernel_initializer= 'normal', activation= 'linear'))\n",
        "    model.add(Dense(1, activation='sigmoid'))\n",
        "    \n",
        "    # compile the model\n",
        "    adam = Adam(lr = 0.001)\n",
        "    model.compile(loss = 'binary_crossentropy', optimizer = adam, metrics = ['accuracy'])\n",
        "    return model\n",
        "\n",
        "# create the model\n",
        "model = KerasClassifier(build_fn = create_model, epochs = 100, batch_size = 20, verbose = 0)\n",
        "\n",
        "# define the grid search parameters\n",
        "neuron1 = [4, 8, 16]\n",
        "neuron2 = [2, 4, 8]\n",
        "\n",
        "# make a dictionary of the grid search parameters\n",
        "param_grid = dict(neuron1 = neuron1, neuron2 = neuron2)\n",
        "\n",
        "# build and fit the GridSearchCV\n",
        "grid = GridSearchCV(estimator = model, param_grid = param_grid, cv = KFold(random_state=seed), refit = True, verbose = 10)\n",
        "grid_results = grid.fit(X_scaled, Y)\n",
        "\n",
        "# summarize the results\n",
        "print(\"Best score: {0}, using {1}\".format(grid_results.best_score_, grid_results.best_params_))\n",
        "means = grid_results.cv_results_['mean_test_score']\n",
        "stds = grid_results.cv_results_['std_test_score']\n",
        "params = grid_results.cv_results_['params']\n",
        "for mean, stdev, param in zip(means, stds, params):\n",
        "    print('{0} ({1}) with: {2}'.format(mean, stdev, param))"
      ],
      "execution_count": 26,
      "outputs": [
        {
          "output_type": "stream",
          "text": [
            "Fitting 3 folds for each of 9 candidates, totalling 27 fits\n",
            "[CV] neuron1=4, neuron2=2 ............................................\n"
          ],
          "name": "stdout"
        },
        {
          "output_type": "stream",
          "text": [
            "/usr/local/lib/python3.6/dist-packages/sklearn/model_selection/_split.py:431: FutureWarning: The default value of n_split will change from 3 to 5 in version 0.22. Specify it explicitly to silence this warning.\n",
            "  warnings.warn(NSPLIT_WARNING, FutureWarning)\n",
            "[Parallel(n_jobs=1)]: Using backend SequentialBackend with 1 concurrent workers.\n"
          ],
          "name": "stderr"
        },
        {
          "output_type": "stream",
          "text": [
            "[CV] ................ neuron1=4, neuron2=2, score=0.771, total=  12.8s\n",
            "[CV] neuron1=4, neuron2=2 ............................................\n"
          ],
          "name": "stdout"
        },
        {
          "output_type": "stream",
          "text": [
            "[Parallel(n_jobs=1)]: Done   1 out of   1 | elapsed:   12.8s remaining:    0.0s\n"
          ],
          "name": "stderr"
        },
        {
          "output_type": "stream",
          "text": [
            "[CV] ................ neuron1=4, neuron2=2, score=0.763, total=  12.9s\n",
            "[CV] neuron1=4, neuron2=2 ............................................\n"
          ],
          "name": "stdout"
        },
        {
          "output_type": "stream",
          "text": [
            "[Parallel(n_jobs=1)]: Done   2 out of   2 | elapsed:   25.8s remaining:    0.0s\n"
          ],
          "name": "stderr"
        },
        {
          "output_type": "stream",
          "text": [
            "[CV] ................ neuron1=4, neuron2=2, score=0.831, total=  13.1s\n",
            "[CV] neuron1=4, neuron2=4 ............................................\n"
          ],
          "name": "stdout"
        },
        {
          "output_type": "stream",
          "text": [
            "[Parallel(n_jobs=1)]: Done   3 out of   3 | elapsed:   38.9s remaining:    0.0s\n"
          ],
          "name": "stderr"
        },
        {
          "output_type": "stream",
          "text": [
            "[CV] ................ neuron1=4, neuron2=4, score=0.763, total=  13.2s\n",
            "[CV] neuron1=4, neuron2=4 ............................................\n"
          ],
          "name": "stdout"
        },
        {
          "output_type": "stream",
          "text": [
            "[Parallel(n_jobs=1)]: Done   4 out of   4 | elapsed:   52.0s remaining:    0.0s\n"
          ],
          "name": "stderr"
        },
        {
          "output_type": "stream",
          "text": [
            "[CV] ................ neuron1=4, neuron2=4, score=0.763, total=  13.2s\n",
            "[CV] neuron1=4, neuron2=4 ............................................\n"
          ],
          "name": "stdout"
        },
        {
          "output_type": "stream",
          "text": [
            "[Parallel(n_jobs=1)]: Done   5 out of   5 | elapsed:  1.1min remaining:    0.0s\n"
          ],
          "name": "stderr"
        },
        {
          "output_type": "stream",
          "text": [
            "[CV] ................ neuron1=4, neuron2=4, score=0.815, total=  13.3s\n",
            "[CV] neuron1=4, neuron2=8 ............................................\n"
          ],
          "name": "stdout"
        },
        {
          "output_type": "stream",
          "text": [
            "[Parallel(n_jobs=1)]: Done   6 out of   6 | elapsed:  1.3min remaining:    0.0s\n"
          ],
          "name": "stderr"
        },
        {
          "output_type": "stream",
          "text": [
            "[CV] ................ neuron1=4, neuron2=8, score=0.771, total=  13.2s\n",
            "[CV] neuron1=4, neuron2=8 ............................................\n"
          ],
          "name": "stdout"
        },
        {
          "output_type": "stream",
          "text": [
            "[Parallel(n_jobs=1)]: Done   7 out of   7 | elapsed:  1.5min remaining:    0.0s\n"
          ],
          "name": "stderr"
        },
        {
          "output_type": "stream",
          "text": [
            "[CV] ................ neuron1=4, neuron2=8, score=0.763, total=  13.4s\n",
            "[CV] neuron1=4, neuron2=8 ............................................\n"
          ],
          "name": "stdout"
        },
        {
          "output_type": "stream",
          "text": [
            "[Parallel(n_jobs=1)]: Done   8 out of   8 | elapsed:  1.8min remaining:    0.0s\n"
          ],
          "name": "stderr"
        },
        {
          "output_type": "stream",
          "text": [
            "[CV] ................ neuron1=4, neuron2=8, score=0.831, total=  14.3s\n",
            "[CV] neuron1=8, neuron2=2 ............................................\n"
          ],
          "name": "stdout"
        },
        {
          "output_type": "stream",
          "text": [
            "[Parallel(n_jobs=1)]: Done   9 out of   9 | elapsed:  2.0min remaining:    0.0s\n"
          ],
          "name": "stderr"
        },
        {
          "output_type": "stream",
          "text": [
            "[CV] ................ neuron1=8, neuron2=2, score=0.771, total=  13.8s\n",
            "[CV] neuron1=8, neuron2=2 ............................................\n",
            "[CV] ................ neuron1=8, neuron2=2, score=0.763, total=  13.9s\n",
            "[CV] neuron1=8, neuron2=2 ............................................\n",
            "[CV] ................ neuron1=8, neuron2=2, score=0.823, total=  14.0s\n",
            "[CV] neuron1=8, neuron2=4 ............................................\n",
            "[CV] ................ neuron1=8, neuron2=4, score=0.771, total=  14.6s\n",
            "[CV] neuron1=8, neuron2=4 ............................................\n",
            "[CV] ................ neuron1=8, neuron2=4, score=0.763, total=  14.3s\n",
            "[CV] neuron1=8, neuron2=4 ............................................\n",
            "[CV] ................ neuron1=8, neuron2=4, score=0.831, total=  14.5s\n",
            "[CV] neuron1=8, neuron2=8 ............................................\n",
            "[CV] ................ neuron1=8, neuron2=8, score=0.763, total=  14.6s\n",
            "[CV] neuron1=8, neuron2=8 ............................................\n",
            "[CV] ................ neuron1=8, neuron2=8, score=0.763, total=  14.6s\n",
            "[CV] neuron1=8, neuron2=8 ............................................\n",
            "[CV] ................ neuron1=8, neuron2=8, score=0.846, total=  14.8s\n",
            "[CV] neuron1=16, neuron2=2 ...........................................\n",
            "[CV] ............... neuron1=16, neuron2=2, score=0.756, total=  14.8s\n",
            "[CV] neuron1=16, neuron2=2 ...........................................\n",
            "[CV] ............... neuron1=16, neuron2=2, score=0.779, total=  15.1s\n",
            "[CV] neuron1=16, neuron2=2 ...........................................\n",
            "[CV] ............... neuron1=16, neuron2=2, score=0.831, total=  15.5s\n",
            "[CV] neuron1=16, neuron2=4 ...........................................\n",
            "[CV] ............... neuron1=16, neuron2=4, score=0.763, total=  15.6s\n",
            "[CV] neuron1=16, neuron2=4 ...........................................\n",
            "[CV] ............... neuron1=16, neuron2=4, score=0.763, total=  15.2s\n",
            "[CV] neuron1=16, neuron2=4 ...........................................\n",
            "[CV] ............... neuron1=16, neuron2=4, score=0.838, total=  15.4s\n",
            "[CV] neuron1=16, neuron2=8 ...........................................\n",
            "[CV] ............... neuron1=16, neuron2=8, score=0.771, total=  15.6s\n",
            "[CV] neuron1=16, neuron2=8 ...........................................\n",
            "[CV] ............... neuron1=16, neuron2=8, score=0.763, total=  15.7s\n",
            "[CV] neuron1=16, neuron2=8 ...........................................\n",
            "[CV] ............... neuron1=16, neuron2=8, score=0.831, total=  15.9s\n"
          ],
          "name": "stdout"
        },
        {
          "output_type": "stream",
          "text": [
            "[Parallel(n_jobs=1)]: Done  27 out of  27 | elapsed:  6.5min finished\n"
          ],
          "name": "stderr"
        },
        {
          "output_type": "stream",
          "text": [
            "Best score: 0.7908163321565609, using {'neuron1': 8, 'neuron2': 8}\n",
            "0.7882653111401869 (0.030102045674294392) with: {'neuron1': 4, 'neuron2': 2}\n",
            "0.7806122526526451 (0.024493751760345923) with: {'neuron1': 4, 'neuron2': 4}\n",
            "0.7882653080991336 (0.030102047419290692) with: {'neuron1': 4, 'neuron2': 8}\n",
            "0.7857142916443397 (0.026502678918629105) with: {'neuron1': 8, 'neuron2': 2}\n",
            "0.7882653080991336 (0.030102047419290692) with: {'neuron1': 8, 'neuron2': 4}\n",
            "0.7908163321565609 (0.03897990239339837) with: {'neuron1': 8, 'neuron2': 8}\n",
            "0.7882653141812402 (0.03136920303644759) with: {'neuron1': 16, 'neuron2': 2}\n",
            "0.7882653111401869 (0.03535836473101593) with: {'neuron1': 16, 'neuron2': 4}\n",
            "0.7882653111401869 (0.030102045674294392) with: {'neuron1': 16, 'neuron2': 8}\n"
          ],
          "name": "stdout"
        }
      ]
    },
    {
      "cell_type": "markdown",
      "metadata": {
        "id": "f0JOPzOuFB3j",
        "colab_type": "text"
      },
      "source": [
        "we found that having 8 and 8 neurons is the best. We will retrain our algorithm, using 8 neurons in both the layers."
      ]
    },
    {
      "cell_type": "code",
      "metadata": {
        "id": "TMEomK3jFVY7",
        "colab_type": "code",
        "colab": {
          "base_uri": "https://localhost:8080/",
          "height": 34
        },
        "outputId": "9d30ad8b-6286-40fd-a973-aa5838baf035"
      },
      "source": [
        "# Retraining the model with optimal hyperparameters\n",
        "\n",
        "# Define a random seed\n",
        "seed = 100\n",
        "np.random.seed(seed)\n",
        "\n",
        "# Start defining the model\n",
        "def create_model():\n",
        "    # create model\n",
        "    model = Sequential()\n",
        "    model.add(Dense(8, input_dim = 8, kernel_initializer= 'normal', activation= 'linear'))\n",
        "    model.add(Dense(8, input_dim = neuron1, kernel_initializer= 'normal', activation= 'linear'))\n",
        "    model.add(Dense(1, activation='sigmoid'))\n",
        "    \n",
        "    # compile the model\n",
        "    adam = Adam(lr = 0.001)\n",
        "    model.compile(loss = 'binary_crossentropy', optimizer = adam, metrics = ['accuracy'])\n",
        "    return model\n",
        "\n",
        "# create the model\n",
        "model = KerasClassifier(build_fn = create_model, epochs = 100, batch_size = 20, verbose = 0)\n",
        "\n",
        "model.fit(X_scaled, Y)"
      ],
      "execution_count": 27,
      "outputs": [
        {
          "output_type": "execute_result",
          "data": {
            "text/plain": [
              "<keras.callbacks.History at 0x7ff2f388cb00>"
            ]
          },
          "metadata": {
            "tags": []
          },
          "execution_count": 27
        }
      ]
    },
    {
      "cell_type": "code",
      "metadata": {
        "id": "8q2vMbW_F3Hs",
        "colab_type": "code",
        "colab": {
          "base_uri": "https://localhost:8080/",
          "height": 465
        },
        "outputId": "3a25e3ec-bafd-43ab-ae77-f19513f5c293"
      },
      "source": [
        "# generate predictions with optimal hyperparameters\n",
        "y_pred = model.predict(X_scaled)\n",
        "\n",
        "# Let's understand the results\n",
        "from sklearn.metrics import confusion_matrix, classification_report, accuracy_score\n",
        "\n",
        "cnf_matrix = confusion_matrix(Y, y_pred)\n",
        "p = sns.heatmap(pd.DataFrame(cnf_matrix), annot=True, cmap=\"YlGnBu\" ,fmt='g')\n",
        "plt.title('Confusion matrix', y=1.1)\n",
        "plt.ylabel('Actual label')\n",
        "plt.xlabel('Predicted label')\n",
        "\n",
        "print('Accuracy :', accuracy_score(Y, y_pred))\n",
        "print(classification_report(Y, y_pred))"
      ],
      "execution_count": 28,
      "outputs": [
        {
          "output_type": "stream",
          "text": [
            "Accuracy : 0.7831632653061225\n",
            "              precision    recall  f1-score   support\n",
            "\n",
            "           0       0.81      0.89      0.85       262\n",
            "           1       0.72      0.57      0.64       130\n",
            "\n",
            "    accuracy                           0.78       392\n",
            "   macro avg       0.76      0.73      0.74       392\n",
            "weighted avg       0.78      0.78      0.78       392\n",
            "\n"
          ],
          "name": "stdout"
        },
        {
          "output_type": "display_data",
          "data": {
            "image/png": "[encoded data removed]",
            "text/plain": [
              "<Figure size 432x288 with 2 Axes>"
            ]
          },
          "metadata": {
            "tags": []
          }
        }
      ]
    }
  ]
}
